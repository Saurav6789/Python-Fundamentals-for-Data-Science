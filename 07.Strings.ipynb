{
 "cells": [
  {
   "cell_type": "markdown",
   "id": "2423db7f",
   "metadata": {},
   "source": [
    "# Strings \n",
    "\n",
    "String is one of the sequence in Python. It is used to store the textual information. String is basically a sequence of characters enclosed within single, double or triple  quotes . In this notebook , we will look into following topics \n",
    "\n",
    "- Creating Strings \n",
    "- String indexing and slicing \n",
    "- String Properties \n",
    "- String Methods\n",
    "- String formatting \n"
   ]
  },
  {
   "cell_type": "markdown",
   "id": "e9439add",
   "metadata": {},
   "source": [
    "## Creating string "
   ]
  },
  {
   "cell_type": "code",
   "execution_count": 1,
   "id": "4620fc1c",
   "metadata": {},
   "outputs": [
    {
     "data": {
      "text/plain": [
       "'Welcome'"
      ]
     },
     "execution_count": 1,
     "metadata": {},
     "output_type": "execute_result"
    }
   ],
   "source": [
    "# A single word can be string \n",
    "\n",
    "str_single = \"Welcome\"\n",
    "str_single"
   ]
  },
  {
   "cell_type": "code",
   "execution_count": 2,
   "id": "58fb48c2",
   "metadata": {},
   "outputs": [
    {
     "data": {
      "text/plain": [
       "'Welcome home'"
      ]
     },
     "execution_count": 2,
     "metadata": {},
     "output_type": "execute_result"
    }
   ],
   "source": [
    "# Mulitple words or phrases or a sentence\n",
    "str_muliple = \"Welcome home\"\n",
    "str_muliple"
   ]
  },
  {
   "cell_type": "code",
   "execution_count": 3,
   "id": "fa8c7151",
   "metadata": {},
   "outputs": [
    {
     "ename": "SyntaxError",
     "evalue": "invalid syntax (2104916426.py, line 3)",
     "output_type": "error",
     "traceback": [
      "\u001b[1;36m  Input \u001b[1;32mIn [3]\u001b[1;36m\u001b[0m\n\u001b[1;33m    str_careful = 'I'm using the singl quotes'\u001b[0m\n\u001b[1;37m                     ^\u001b[0m\n\u001b[1;31mSyntaxError\u001b[0m\u001b[1;31m:\u001b[0m invalid syntax\n"
     ]
    }
   ],
   "source": [
    "# Always try to use the double quotes \n",
    "\n",
    "str_careful = 'I'm using the singl quotes'"
   ]
  },
  {
   "cell_type": "markdown",
   "id": "9368098a",
   "metadata": {},
   "source": [
    "The reason for the error above is because the single quote in I'm stopped the string. You can use combinations of double and single quotes to get the complete statement."
   ]
  },
  {
   "cell_type": "code",
   "execution_count": 4,
   "id": "c81d4a25",
   "metadata": {},
   "outputs": [
    {
     "name": "stdout",
     "output_type": "stream",
     "text": [
      "Welcome home\n"
     ]
    }
   ],
   "source": [
    "# print the string\n",
    "print(str_muliple)"
   ]
  },
  {
   "cell_type": "code",
   "execution_count": 5,
   "id": "30e258e0",
   "metadata": {},
   "outputs": [
    {
     "name": "stdout",
     "output_type": "stream",
     "text": [
      "Welcome home\n",
      "\n",
      "\n",
      "Welcome\n"
     ]
    }
   ],
   "source": [
    "#  \\n is used tp create new line \n",
    "print(str_muliple)\n",
    "print('\\n')\n",
    "print(str_single)\n"
   ]
  },
  {
   "cell_type": "code",
   "execution_count": 6,
   "id": "23185e14",
   "metadata": {},
   "outputs": [
    {
     "data": {
      "text/plain": [
       "12"
      ]
     },
     "execution_count": 6,
     "metadata": {},
     "output_type": "execute_result"
    }
   ],
   "source": [
    "len(str_muliple)"
   ]
  },
  {
   "cell_type": "markdown",
   "id": "05d138a7",
   "metadata": {},
   "source": [
    "## Indexing and Slicing "
   ]
  },
  {
   "cell_type": "code",
   "execution_count": 7,
   "id": "32bba255",
   "metadata": {},
   "outputs": [
    {
     "data": {
      "text/plain": [
       "'W'"
      ]
     },
     "execution_count": 7,
     "metadata": {},
     "output_type": "execute_result"
    }
   ],
   "source": [
    "# Access the first character \n",
    "str_muliple[0]"
   ]
  },
  {
   "cell_type": "code",
   "execution_count": 8,
   "id": "545c37aa",
   "metadata": {},
   "outputs": [
    {
     "data": {
      "text/plain": [
       "'elcome home'"
      ]
     },
     "execution_count": 8,
     "metadata": {},
     "output_type": "execute_result"
    }
   ],
   "source": [
    "# Grab everything past the first term all the way to the length of s which is len(s)\n",
    "str_muliple[1:]"
   ]
  },
  {
   "cell_type": "code",
   "execution_count": 9,
   "id": "2def5604",
   "metadata": {},
   "outputs": [
    {
     "data": {
      "text/plain": [
       "'Welc'"
      ]
     },
     "execution_count": 9,
     "metadata": {},
     "output_type": "execute_result"
    }
   ],
   "source": [
    "# Grab everything UP TO the 4rd index\n",
    "str_muliple[:4]"
   ]
  },
  {
   "cell_type": "code",
   "execution_count": 10,
   "id": "0d1c6f03",
   "metadata": {},
   "outputs": [
    {
     "data": {
      "text/plain": [
       "'Welcome home'"
      ]
     },
     "execution_count": 10,
     "metadata": {},
     "output_type": "execute_result"
    }
   ],
   "source": [
    "# Everything\n",
    "str_muliple[:]"
   ]
  },
  {
   "cell_type": "code",
   "execution_count": 11,
   "id": "1e0f92bf",
   "metadata": {},
   "outputs": [
    {
     "data": {
      "text/plain": [
       "'e'"
      ]
     },
     "execution_count": 11,
     "metadata": {},
     "output_type": "execute_result"
    }
   ],
   "source": [
    "# last letter \n",
    "str_muliple[-1]"
   ]
  },
  {
   "cell_type": "code",
   "execution_count": 12,
   "id": "57392924",
   "metadata": {},
   "outputs": [
    {
     "data": {
      "text/plain": [
       "'Welcome home'"
      ]
     },
     "execution_count": 12,
     "metadata": {},
     "output_type": "execute_result"
    }
   ],
   "source": [
    "# Grab everything, but go in steps size of 1\n",
    "str_muliple[::1]"
   ]
  },
  {
   "cell_type": "code",
   "execution_count": 13,
   "id": "bee80e65",
   "metadata": {},
   "outputs": [
    {
     "data": {
      "text/plain": [
       "'Wloehm'"
      ]
     },
     "execution_count": 13,
     "metadata": {},
     "output_type": "execute_result"
    }
   ],
   "source": [
    "# Grab everything, but go in step sizes of 2\n",
    "str_muliple[::2]"
   ]
  },
  {
   "cell_type": "code",
   "execution_count": 14,
   "id": "a150ce59",
   "metadata": {},
   "outputs": [
    {
     "data": {
      "text/plain": [
       "'emoh emocleW'"
      ]
     },
     "execution_count": 14,
     "metadata": {},
     "output_type": "execute_result"
    }
   ],
   "source": [
    "# We can use this to print a string backwards\n",
    "str_muliple[::-1]"
   ]
  },
  {
   "cell_type": "markdown",
   "id": "9ddd2df7",
   "metadata": {},
   "source": [
    "## String Properties ( Immutable)"
   ]
  },
  {
   "cell_type": "code",
   "execution_count": 15,
   "id": "4b56dd4a",
   "metadata": {},
   "outputs": [
    {
     "ename": "TypeError",
     "evalue": "'str' object does not support item assignment",
     "output_type": "error",
     "traceback": [
      "\u001b[1;31m---------------------------------------------------------------------------\u001b[0m",
      "\u001b[1;31mTypeError\u001b[0m                                 Traceback (most recent call last)",
      "Input \u001b[1;32mIn [15]\u001b[0m, in \u001b[0;36m<cell line: 1>\u001b[1;34m()\u001b[0m\n\u001b[1;32m----> 1\u001b[0m str_muliple[\u001b[38;5;241m0\u001b[39m] \u001b[38;5;241m=\u001b[39m \u001b[38;5;124m'\u001b[39m\u001b[38;5;124mx\u001b[39m\u001b[38;5;124m'\u001b[39m\n",
      "\u001b[1;31mTypeError\u001b[0m: 'str' object does not support item assignment"
     ]
    }
   ],
   "source": [
    "str_muliple[0] = 'x'"
   ]
  },
  {
   "cell_type": "code",
   "execution_count": 16,
   "id": "1ff4edeb",
   "metadata": {},
   "outputs": [
    {
     "data": {
      "text/plain": [
       "'Welcome home add me!'"
      ]
     },
     "execution_count": 16,
     "metadata": {},
     "output_type": "execute_result"
    }
   ],
   "source": [
    "# Concatenate strings!\n",
    "str_muliple + ' add me!'"
   ]
  },
  {
   "cell_type": "code",
   "execution_count": 18,
   "id": "1854bad2",
   "metadata": {},
   "outputs": [],
   "source": [
    "# Assign the value completely \n",
    "str_muliple = str_muliple + ' add me!'"
   ]
  },
  {
   "cell_type": "code",
   "execution_count": 19,
   "id": "498ba35c",
   "metadata": {},
   "outputs": [
    {
     "name": "stdout",
     "output_type": "stream",
     "text": [
      "Welcome home add me!\n"
     ]
    }
   ],
   "source": [
    "print(str_muliple)"
   ]
  },
  {
   "cell_type": "code",
   "execution_count": 20,
   "id": "8e8625df",
   "metadata": {},
   "outputs": [
    {
     "data": {
      "text/plain": [
       "'Welcome home add me!Welcome home add me!'"
      ]
     },
     "execution_count": 20,
     "metadata": {},
     "output_type": "execute_result"
    }
   ],
   "source": [
    "str_muliple*2"
   ]
  },
  {
   "cell_type": "markdown",
   "id": "b7253e5a",
   "metadata": {},
   "source": [
    "## Built-in String Methods   "
   ]
  },
  {
   "cell_type": "code",
   "execution_count": 23,
   "id": "b8242464",
   "metadata": {},
   "outputs": [
    {
     "data": {
      "text/plain": [
       "'WELCOME HOME ADD ME!'"
      ]
     },
     "execution_count": 23,
     "metadata": {},
     "output_type": "execute_result"
    }
   ],
   "source": [
    "# Upper Case a string\n",
    "str_muliple.upper()"
   ]
  },
  {
   "cell_type": "code",
   "execution_count": 24,
   "id": "a4155f5c",
   "metadata": {},
   "outputs": [
    {
     "data": {
      "text/plain": [
       "'welcome home add me!'"
      ]
     },
     "execution_count": 24,
     "metadata": {},
     "output_type": "execute_result"
    }
   ],
   "source": [
    "# Lower case\n",
    "str_muliple.lower()"
   ]
  },
  {
   "cell_type": "code",
   "execution_count": 25,
   "id": "d1f1f0d7",
   "metadata": {},
   "outputs": [
    {
     "data": {
      "text/plain": [
       "['Welcome', 'home', 'add', 'me!']"
      ]
     },
     "execution_count": 25,
     "metadata": {},
     "output_type": "execute_result"
    }
   ],
   "source": [
    "# Split a string by blank space (this is the default)\n",
    "str_muliple.split()"
   ]
  },
  {
   "cell_type": "code",
   "execution_count": 26,
   "id": "9add1c0e",
   "metadata": {},
   "outputs": [
    {
     "data": {
      "text/plain": [
       "['Welco', 'e ho', 'e add ', 'e!']"
      ]
     },
     "execution_count": 26,
     "metadata": {},
     "output_type": "execute_result"
    }
   ],
   "source": [
    "# Split by a specific element (doesn't include the element that was split on)\n",
    "str_muliple.split('m')"
   ]
  },
  {
   "cell_type": "markdown",
   "id": "e5014941",
   "metadata": {},
   "source": [
    "## String Formatting "
   ]
  },
  {
   "cell_type": "code",
   "execution_count": 29,
   "id": "bd1a2cd9",
   "metadata": {},
   "outputs": [
    {
     "name": "stdout",
     "output_type": "stream",
     "text": [
      "I am going to buy an icecream now\n"
     ]
    }
   ],
   "source": [
    "print(\"I am going to buy an %s now\" %'icecream')"
   ]
  },
  {
   "cell_type": "code",
   "execution_count": 31,
   "id": "5b3c525d",
   "metadata": {},
   "outputs": [
    {
     "name": "stdout",
     "output_type": "stream",
     "text": [
      "I'm going to buy 2 icecream, because they are  tasty.\n"
     ]
    }
   ],
   "source": [
    "print(\"I'm going to buy %d icecream, because they are  %s.\" %(2,'tasty'))"
   ]
  },
  {
   "cell_type": "code",
   "execution_count": null,
   "id": "dacac5bb",
   "metadata": {},
   "outputs": [],
   "source": []
  }
 ],
 "metadata": {
  "kernelspec": {
   "display_name": "Python 3 (ipykernel)",
   "language": "python",
   "name": "python3"
  },
  "language_info": {
   "codemirror_mode": {
    "name": "ipython",
    "version": 3
   },
   "file_extension": ".py",
   "mimetype": "text/x-python",
   "name": "python",
   "nbconvert_exporter": "python",
   "pygments_lexer": "ipython3",
   "version": "3.9.12"
  }
 },
 "nbformat": 4,
 "nbformat_minor": 5
}
