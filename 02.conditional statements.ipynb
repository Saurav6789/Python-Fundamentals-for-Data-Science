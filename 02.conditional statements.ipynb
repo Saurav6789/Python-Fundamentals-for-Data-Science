{
 "cells": [
  {
   "cell_type": "markdown",
   "id": "ff10ae39",
   "metadata": {},
   "source": [
    "## if, elif, else Statements\n",
    "\n"
   ]
  },
  {
   "cell_type": "markdown",
   "id": "11820b5b",
   "metadata": {},
   "source": [
    "###  If else statement"
   ]
  },
  {
   "cell_type": "code",
   "execution_count": null,
   "id": "3dc12a09",
   "metadata": {},
   "outputs": [],
   "source": [
    "# If else statement\n",
    "a=30\n",
    "\n",
    "if(a<10):\n",
    "    print(\"Less than 10\")\n",
    "if(10<=a<=25):\n",
    "    print(\"In between 10 and 25\")\n",
    "else:\n",
    "    print(\"Greater than 25\")\n",
    "\n"
   ]
  },
  {
   "cell_type": "markdown",
   "id": "b4a01dff",
   "metadata": {},
   "source": [
    "### # if elif else"
   ]
  },
  {
   "cell_type": "code",
   "execution_count": null,
   "id": "d01bf9d9",
   "metadata": {},
   "outputs": [],
   "source": [
    "marks=70\n",
    "if(marks<40):\n",
    "    print(\"Fail\")\n",
    "elif(40<marks<=60):\n",
    "    print(\"Average\")\n",
    "else:\n",
    "    print(\"Congratulations!! Well done\")"
   ]
  },
  {
   "cell_type": "code",
   "execution_count": null,
   "id": "3b648746",
   "metadata": {},
   "outputs": [],
   "source": []
  }
 ],
 "metadata": {
  "kernelspec": {
   "display_name": "Python 3 (ipykernel)",
   "language": "python",
   "name": "python3"
  },
  "language_info": {
   "codemirror_mode": {
    "name": "ipython",
    "version": 3
   },
   "file_extension": ".py",
   "mimetype": "text/x-python",
   "name": "python",
   "nbconvert_exporter": "python",
   "pygments_lexer": "ipython3",
   "version": "3.9.12"
  }
 },
 "nbformat": 4,
 "nbformat_minor": 5
}
