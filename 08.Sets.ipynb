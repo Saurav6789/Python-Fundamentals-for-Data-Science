{
 "cells": [
  {
   "cell_type": "markdown",
   "id": "750d7d9a",
   "metadata": {},
   "source": [
    "# Sets\n",
    "Sets are an unordered collection of unique elements. We can construct them by using the set() function. Let's go ahead and make a set to see how it works. In this notebook we will cover the following topics for sets :\n",
    "\n",
    "1. Creating sets \n",
    "2. Sets operation\n",
    "3. Sets Built-in methods \n",
    "\n"
   ]
  },
  {
   "cell_type": "markdown",
   "id": "5741cde0",
   "metadata": {},
   "source": [
    "## Creating Sets "
   ]
  },
  {
   "cell_type": "code",
   "execution_count": 1,
   "id": "d710851e",
   "metadata": {},
   "outputs": [
    {
     "name": "stdout",
     "output_type": "stream",
     "text": [
      "{'c', 'l', 'i', 'm', 'n', 'o', 't', 'C', 'W', 'g', 'd', 'e', ' '}\n"
     ]
    }
   ],
   "source": [
    "# For creating sets we can use the set method \n",
    "\n",
    "X =set(\"Welcome to Coding\")\n",
    "print(X)"
   ]
  },
  {
   "cell_type": "code",
   "execution_count": 2,
   "id": "14206a46",
   "metadata": {},
   "outputs": [],
   "source": [
    "A = {1,2,3,4}\n",
    "B = {3,4,5,6}"
   ]
  },
  {
   "cell_type": "markdown",
   "id": "d901bf91",
   "metadata": {},
   "source": [
    "## Set Operations "
   ]
  },
  {
   "cell_type": "code",
   "execution_count": 4,
   "id": "daf4b849",
   "metadata": {},
   "outputs": [
    {
     "name": "stdout",
     "output_type": "stream",
     "text": [
      "{1, 2, 3, 4, 5, 6}\n",
      "{3, 4}\n"
     ]
    }
   ],
   "source": [
    "#Union\n",
    "print(A|B)\n",
    "#Interesection\n",
    "print(A&B)"
   ]
  },
  {
   "cell_type": "code",
   "execution_count": 5,
   "id": "7e728117",
   "metadata": {},
   "outputs": [
    {
     "name": "stdout",
     "output_type": "stream",
     "text": [
      "{1, 2}\n"
     ]
    }
   ],
   "source": [
    "#Difference operation\n",
    "print(A-B)"
   ]
  },
  {
   "cell_type": "markdown",
   "id": "e0040726",
   "metadata": {},
   "source": [
    "### Membership testing"
   ]
  },
  {
   "cell_type": "code",
   "execution_count": 6,
   "id": "6828d09a",
   "metadata": {},
   "outputs": [
    {
     "name": "stdout",
     "output_type": "stream",
     "text": [
      "True\n"
     ]
    }
   ],
   "source": [
    "print(1 in A)"
   ]
  },
  {
   "cell_type": "code",
   "execution_count": 7,
   "id": "ad2ae8f9",
   "metadata": {},
   "outputs": [
    {
     "name": "stdout",
     "output_type": "stream",
     "text": [
      "False\n"
     ]
    }
   ],
   "source": [
    "print(2 in B)"
   ]
  },
  {
   "cell_type": "markdown",
   "id": "d49a70b3",
   "metadata": {},
   "source": [
    "## Sets Built-in methods"
   ]
  },
  {
   "cell_type": "code",
   "execution_count": 8,
   "id": "21ee920f",
   "metadata": {},
   "outputs": [],
   "source": [
    "s={1,2,3,'a','b'}\n",
    "set1={1,'a','b'}"
   ]
  },
  {
   "cell_type": "code",
   "execution_count": 9,
   "id": "0f614c24",
   "metadata": {},
   "outputs": [
    {
     "name": "stdout",
     "output_type": "stream",
     "text": [
      "True\n",
      "True\n",
      "True\n",
      "{1, 2, 3, 'a', 'b'}\n",
      "{'a', 1, 'b'}\n",
      "{2, 3}\n",
      "{2, 3}\n"
     ]
    }
   ],
   "source": [
    "print(set1.issubset(s))\n",
    "\n",
    "print(5 not in s)\n",
    "\n",
    "print(s.issuperset(set1))\n",
    "\n",
    "print(s.union(set1))\n",
    "\n",
    "print(s.intersection(set1))\n",
    "\n",
    "print(s.difference(set1))\n",
    "\n",
    "print(s.symmetric_difference(set1))"
   ]
  },
  {
   "cell_type": "code",
   "execution_count": 10,
   "id": "f13eaefb",
   "metadata": {},
   "outputs": [
    {
     "name": "stdout",
     "output_type": "stream",
     "text": [
      "{1, 2, 3, 'c', 'a', 'b'}\n",
      "{2, 3, 'c', 'a', 'b'}\n",
      "{2, 'c', 'a', 'b'}\n",
      "{'c', 'a', 'b'}\n",
      "set()\n"
     ]
    }
   ],
   "source": [
    "s={1,2,3,'a','b'}\n",
    "s.add('c')\n",
    "print(s)\n",
    "\n",
    "s.remove(1)\n",
    "print(s)\n",
    "\n",
    "s.discard(3)\n",
    "print(s)\n",
    "\n",
    "s.pop()\n",
    "print(s)\n",
    "\n",
    "s.clear()\n",
    "print(s)"
   ]
  },
  {
   "cell_type": "code",
   "execution_count": null,
   "id": "5a9972bb",
   "metadata": {},
   "outputs": [],
   "source": []
  }
 ],
 "metadata": {
  "kernelspec": {
   "display_name": "Python 3 (ipykernel)",
   "language": "python",
   "name": "python3"
  },
  "language_info": {
   "codemirror_mode": {
    "name": "ipython",
    "version": 3
   },
   "file_extension": ".py",
   "mimetype": "text/x-python",
   "name": "python",
   "nbconvert_exporter": "python",
   "pygments_lexer": "ipython3",
   "version": "3.9.12"
  }
 },
 "nbformat": 4,
 "nbformat_minor": 5
}
