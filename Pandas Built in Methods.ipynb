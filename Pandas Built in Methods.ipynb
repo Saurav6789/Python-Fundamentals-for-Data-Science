{
 "cells": [
  {
   "cell_type": "markdown",
   "id": "b6be621d",
   "metadata": {},
   "source": [
    "## ndim - returns the number of dimensions of the data structure"
   ]
  },
  {
   "cell_type": "code",
   "execution_count": 1,
   "id": "74aa80bd",
   "metadata": {},
   "outputs": [
    {
     "name": "stdout",
     "output_type": "stream",
     "text": [
      "1\n"
     ]
    }
   ],
   "source": [
    "import pandas as pd\n",
    "import numpy as np\n",
    "df = pd.Series(np.arange(1,101)) # Series of numbers from 1 to 100\n",
    "print(df.ndim)"
   ]
  },
  {
   "cell_type": "code",
   "execution_count": 3,
   "id": "115989fb",
   "metadata": {},
   "outputs": [
    {
     "name": "stdout",
     "output_type": "stream",
     "text": [
      "2\n"
     ]
    }
   ],
   "source": [
    "# create a list of dictionaries\n",
    "data = [{'name': 'Saurav', 'age': 34, 'gender': 'M'},\n",
    "        {'name': 'Saskia', 'age': 30, 'gender': 'F'},\n",
    "        {'name': 'Nathan', 'age': 35, 'gender': 'M'},\n",
    "        {'name': 'Wilhem', 'age': 40, 'gender': 'M'}]\n",
    "df = pd.DataFrame(data) # Created a dataframe from the above data\n",
    "print(df.ndim)"
   ]
  },
  {
   "cell_type": "markdown",
   "id": "93793894",
   "metadata": {},
   "source": [
    "## axes :- returns a list of axes of the row labels "
   ]
  },
  {
   "cell_type": "code",
   "execution_count": 4,
   "id": "5dd4b8e6",
   "metadata": {},
   "outputs": [
    {
     "name": "stdout",
     "output_type": "stream",
     "text": [
      "[RangeIndex(start=0, stop=100, step=1)]\n"
     ]
    }
   ],
   "source": [
    "df = pd.Series(np.arange(1,101)) # Series of numbers from 1 to 100\n",
    "print(df.axes)"
   ]
  },
  {
   "cell_type": "code",
   "execution_count": 5,
   "id": "27fe38ea",
   "metadata": {},
   "outputs": [
    {
     "name": "stdout",
     "output_type": "stream",
     "text": [
      "[RangeIndex(start=0, stop=4, step=1), Index(['name', 'age', 'gender'], dtype='object')]\n"
     ]
    }
   ],
   "source": [
    "data = [{'name': 'Saurav', 'age': 34, 'gender': 'M'},\n",
    "        {'name': 'Saskia', 'age': 30, 'gender': 'F'},\n",
    "        {'name': 'Nathan', 'age': 35, 'gender': 'M'},\n",
    "        {'name': 'Wilhem', 'age': 40, 'gender': 'M'}]\n",
    "df = pd.DataFrame(data) # Created a dataframe from the above data\n",
    "print(df.axes)"
   ]
  },
  {
   "cell_type": "markdown",
   "id": "1f4bf91c",
   "metadata": {},
   "source": [
    "## values :- method is used to return the underlying data as a NumPy array."
   ]
  },
  {
   "cell_type": "code",
   "execution_count": 6,
   "id": "2948abaa",
   "metadata": {},
   "outputs": [
    {
     "name": "stdout",
     "output_type": "stream",
     "text": [
      "[  1   2   3   4   5   6   7   8   9  10  11  12  13  14  15  16  17  18\n",
      "  19  20  21  22  23  24  25  26  27  28  29  30  31  32  33  34  35  36\n",
      "  37  38  39  40  41  42  43  44  45  46  47  48  49  50  51  52  53  54\n",
      "  55  56  57  58  59  60  61  62  63  64  65  66  67  68  69  70  71  72\n",
      "  73  74  75  76  77  78  79  80  81  82  83  84  85  86  87  88  89  90\n",
      "  91  92  93  94  95  96  97  98  99 100]\n"
     ]
    }
   ],
   "source": [
    "df = pd.Series(np.arange(1,101)) # Series of numbers from 1 to 100\n",
    "print(df.values)"
   ]
  },
  {
   "cell_type": "code",
   "execution_count": 7,
   "id": "6b79ce47",
   "metadata": {},
   "outputs": [
    {
     "name": "stdout",
     "output_type": "stream",
     "text": [
      "[['Saurav' 34 'M']\n",
      " ['Saskia' 30 'F']\n",
      " ['Nathan' 35 'M']\n",
      " ['Wilhem' 40 'M']]\n"
     ]
    }
   ],
   "source": [
    "data = [{'name': 'Saurav', 'age': 34, 'gender': 'M'},\n",
    "        {'name': 'Saskia', 'age': 30, 'gender': 'F'},\n",
    "        {'name': 'Nathan', 'age': 35, 'gender': 'M'},\n",
    "        {'name': 'Wilhem', 'age': 40, 'gender': 'M'}]\n",
    "df = pd.DataFrame(data) # Created a dataframe from the above data\n",
    "print(df.values)"
   ]
  },
  {
   "cell_type": "markdown",
   "id": "143df5af",
   "metadata": {},
   "source": [
    "## head() :- returns the first n rows of the data structure. "
   ]
  },
  {
   "cell_type": "code",
   "execution_count": 10,
   "id": "8e122ff0",
   "metadata": {},
   "outputs": [],
   "source": [
    "data = [{'name': 'Saurav', 'age': 34, 'gender': 'M'},\n",
    "        {'name': 'Saskia', 'age': 30, 'gender': 'F'},\n",
    "        {'name': 'Nathan', 'age': 35, 'gender': 'M'},\n",
    "        {'name': 'Wilhem', 'age': 40, 'gender': 'M'},\n",
    "        {'name': 'Juan', 'age': 32, 'gender': 'M'}]\n",
    "df = pd.DataFrame(data) # Created a dataframe from the above data"
   ]
  },
  {
   "cell_type": "code",
   "execution_count": 11,
   "id": "412f54f4",
   "metadata": {},
   "outputs": [
    {
     "data": {
      "text/html": [
       "<div>\n",
       "<style scoped>\n",
       "    .dataframe tbody tr th:only-of-type {\n",
       "        vertical-align: middle;\n",
       "    }\n",
       "\n",
       "    .dataframe tbody tr th {\n",
       "        vertical-align: top;\n",
       "    }\n",
       "\n",
       "    .dataframe thead th {\n",
       "        text-align: right;\n",
       "    }\n",
       "</style>\n",
       "<table border=\"1\" class=\"dataframe\">\n",
       "  <thead>\n",
       "    <tr style=\"text-align: right;\">\n",
       "      <th></th>\n",
       "      <th>name</th>\n",
       "      <th>age</th>\n",
       "      <th>gender</th>\n",
       "    </tr>\n",
       "  </thead>\n",
       "  <tbody>\n",
       "    <tr>\n",
       "      <th>0</th>\n",
       "      <td>Saurav</td>\n",
       "      <td>34</td>\n",
       "      <td>M</td>\n",
       "    </tr>\n",
       "    <tr>\n",
       "      <th>1</th>\n",
       "      <td>Saskia</td>\n",
       "      <td>30</td>\n",
       "      <td>F</td>\n",
       "    </tr>\n",
       "    <tr>\n",
       "      <th>2</th>\n",
       "      <td>Nathan</td>\n",
       "      <td>35</td>\n",
       "      <td>M</td>\n",
       "    </tr>\n",
       "    <tr>\n",
       "      <th>3</th>\n",
       "      <td>Wilhem</td>\n",
       "      <td>40</td>\n",
       "      <td>M</td>\n",
       "    </tr>\n",
       "    <tr>\n",
       "      <th>4</th>\n",
       "      <td>Juan</td>\n",
       "      <td>32</td>\n",
       "      <td>M</td>\n",
       "    </tr>\n",
       "  </tbody>\n",
       "</table>\n",
       "</div>"
      ],
      "text/plain": [
       "     name  age gender\n",
       "0  Saurav   34      M\n",
       "1  Saskia   30      F\n",
       "2  Nathan   35      M\n",
       "3  Wilhem   40      M\n",
       "4    Juan   32      M"
      ]
     },
     "execution_count": 11,
     "metadata": {},
     "output_type": "execute_result"
    }
   ],
   "source": [
    "df.head(6) # First 6 rows of the dataframe "
   ]
  },
  {
   "cell_type": "code",
   "execution_count": 9,
   "id": "658274ac",
   "metadata": {},
   "outputs": [
    {
     "data": {
      "text/html": [
       "<div>\n",
       "<style scoped>\n",
       "    .dataframe tbody tr th:only-of-type {\n",
       "        vertical-align: middle;\n",
       "    }\n",
       "\n",
       "    .dataframe tbody tr th {\n",
       "        vertical-align: top;\n",
       "    }\n",
       "\n",
       "    .dataframe thead th {\n",
       "        text-align: right;\n",
       "    }\n",
       "</style>\n",
       "<table border=\"1\" class=\"dataframe\">\n",
       "  <thead>\n",
       "    <tr style=\"text-align: right;\">\n",
       "      <th></th>\n",
       "      <th>name</th>\n",
       "      <th>age</th>\n",
       "      <th>gender</th>\n",
       "    </tr>\n",
       "  </thead>\n",
       "  <tbody>\n",
       "    <tr>\n",
       "      <th>0</th>\n",
       "      <td>Saurav</td>\n",
       "      <td>34</td>\n",
       "      <td>M</td>\n",
       "    </tr>\n",
       "    <tr>\n",
       "      <th>1</th>\n",
       "      <td>Saskia</td>\n",
       "      <td>30</td>\n",
       "      <td>F</td>\n",
       "    </tr>\n",
       "    <tr>\n",
       "      <th>2</th>\n",
       "      <td>Nathan</td>\n",
       "      <td>35</td>\n",
       "      <td>M</td>\n",
       "    </tr>\n",
       "    <tr>\n",
       "      <th>3</th>\n",
       "      <td>Wilhem</td>\n",
       "      <td>40</td>\n",
       "      <td>M</td>\n",
       "    </tr>\n",
       "  </tbody>\n",
       "</table>\n",
       "</div>"
      ],
      "text/plain": [
       "     name  age gender\n",
       "0  Saurav   34      M\n",
       "1  Saskia   30      F\n",
       "2  Nathan   35      M\n",
       "3  Wilhem   40      M"
      ]
     },
     "execution_count": 9,
     "metadata": {},
     "output_type": "execute_result"
    }
   ],
   "source": [
    "df.head() # By default it takes the first 5 values of the dataframe "
   ]
  },
  {
   "cell_type": "markdown",
   "id": "5e4821b3",
   "metadata": {},
   "source": [
    "## tail() :- returns the last n rows of the data structure. "
   ]
  },
  {
   "cell_type": "code",
   "execution_count": 12,
   "id": "3450bd00",
   "metadata": {},
   "outputs": [
    {
     "data": {
      "text/html": [
       "<div>\n",
       "<style scoped>\n",
       "    .dataframe tbody tr th:only-of-type {\n",
       "        vertical-align: middle;\n",
       "    }\n",
       "\n",
       "    .dataframe tbody tr th {\n",
       "        vertical-align: top;\n",
       "    }\n",
       "\n",
       "    .dataframe thead th {\n",
       "        text-align: right;\n",
       "    }\n",
       "</style>\n",
       "<table border=\"1\" class=\"dataframe\">\n",
       "  <thead>\n",
       "    <tr style=\"text-align: right;\">\n",
       "      <th></th>\n",
       "      <th>name</th>\n",
       "      <th>age</th>\n",
       "      <th>gender</th>\n",
       "    </tr>\n",
       "  </thead>\n",
       "  <tbody>\n",
       "    <tr>\n",
       "      <th>2</th>\n",
       "      <td>Nathan</td>\n",
       "      <td>35</td>\n",
       "      <td>M</td>\n",
       "    </tr>\n",
       "    <tr>\n",
       "      <th>3</th>\n",
       "      <td>Wilhem</td>\n",
       "      <td>40</td>\n",
       "      <td>M</td>\n",
       "    </tr>\n",
       "    <tr>\n",
       "      <th>4</th>\n",
       "      <td>Juan</td>\n",
       "      <td>32</td>\n",
       "      <td>M</td>\n",
       "    </tr>\n",
       "  </tbody>\n",
       "</table>\n",
       "</div>"
      ],
      "text/plain": [
       "     name  age gender\n",
       "2  Nathan   35      M\n",
       "3  Wilhem   40      M\n",
       "4    Juan   32      M"
      ]
     },
     "execution_count": 12,
     "metadata": {},
     "output_type": "execute_result"
    }
   ],
   "source": [
    "df.tail(3) # Last 3 rows of the dataframe "
   ]
  },
  {
   "cell_type": "code",
   "execution_count": 13,
   "id": "4f9083e3",
   "metadata": {},
   "outputs": [
    {
     "data": {
      "text/html": [
       "<div>\n",
       "<style scoped>\n",
       "    .dataframe tbody tr th:only-of-type {\n",
       "        vertical-align: middle;\n",
       "    }\n",
       "\n",
       "    .dataframe tbody tr th {\n",
       "        vertical-align: top;\n",
       "    }\n",
       "\n",
       "    .dataframe thead th {\n",
       "        text-align: right;\n",
       "    }\n",
       "</style>\n",
       "<table border=\"1\" class=\"dataframe\">\n",
       "  <thead>\n",
       "    <tr style=\"text-align: right;\">\n",
       "      <th></th>\n",
       "      <th>name</th>\n",
       "      <th>age</th>\n",
       "      <th>gender</th>\n",
       "    </tr>\n",
       "  </thead>\n",
       "  <tbody>\n",
       "    <tr>\n",
       "      <th>0</th>\n",
       "      <td>Saurav</td>\n",
       "      <td>34</td>\n",
       "      <td>M</td>\n",
       "    </tr>\n",
       "    <tr>\n",
       "      <th>1</th>\n",
       "      <td>Saskia</td>\n",
       "      <td>30</td>\n",
       "      <td>F</td>\n",
       "    </tr>\n",
       "    <tr>\n",
       "      <th>2</th>\n",
       "      <td>Nathan</td>\n",
       "      <td>35</td>\n",
       "      <td>M</td>\n",
       "    </tr>\n",
       "    <tr>\n",
       "      <th>3</th>\n",
       "      <td>Wilhem</td>\n",
       "      <td>40</td>\n",
       "      <td>M</td>\n",
       "    </tr>\n",
       "    <tr>\n",
       "      <th>4</th>\n",
       "      <td>Juan</td>\n",
       "      <td>32</td>\n",
       "      <td>M</td>\n",
       "    </tr>\n",
       "  </tbody>\n",
       "</table>\n",
       "</div>"
      ],
      "text/plain": [
       "     name  age gender\n",
       "0  Saurav   34      M\n",
       "1  Saskia   30      F\n",
       "2  Nathan   35      M\n",
       "3  Wilhem   40      M\n",
       "4    Juan   32      M"
      ]
     },
     "execution_count": 13,
     "metadata": {},
     "output_type": "execute_result"
    }
   ],
   "source": [
    "df.tail() # By default it takes the last 5 values of the dataframe"
   ]
  },
  {
   "cell_type": "markdown",
   "id": "ba39984c",
   "metadata": {},
   "source": [
    "## sum() :- returns the sum of the values for the requested axis"
   ]
  },
  {
   "cell_type": "code",
   "execution_count": 15,
   "id": "643bac28",
   "metadata": {},
   "outputs": [
    {
     "name": "stdout",
     "output_type": "stream",
     "text": [
      "even    1560\n",
      "odd     1600\n",
      "dtype: int64\n"
     ]
    }
   ],
   "source": [
    "dict = {'even':np.arange(0,80,2),'odd':np.arange(1,80,2)}\n",
    "df = pd.DataFrame(dict)\n",
    "print(df.sum())"
   ]
  },
  {
   "cell_type": "markdown",
   "id": "b566ccd7",
   "metadata": {},
   "source": [
    "## std() :- returns the sum of the values for the requested axis"
   ]
  },
  {
   "cell_type": "code",
   "execution_count": 16,
   "id": "596eaa36",
   "metadata": {},
   "outputs": [
    {
     "name": "stdout",
     "output_type": "stream",
     "text": [
      "even    23.380904\n",
      "odd     23.380904\n",
      "dtype: float64\n"
     ]
    }
   ],
   "source": [
    "dict = {'even':np.arange(0,80,2),'odd':np.arange(1,80,2)}\n",
    "df = pd.DataFrame(dict)\n",
    "print(df.std())"
   ]
  },
  {
   "cell_type": "markdown",
   "id": "6712aa77",
   "metadata": {},
   "source": [
    "## iteritems() :- iterates over each column as key , value pair "
   ]
  },
  {
   "cell_type": "code",
   "execution_count": 20,
   "id": "522926ff",
   "metadata": {},
   "outputs": [
    {
     "name": "stdout",
     "output_type": "stream",
     "text": [
      "col1 0    0.495072\n",
      "1    1.405290\n",
      "2   -1.098552\n",
      "3   -1.067371\n",
      "4   -0.185172\n",
      "Name: col1, dtype: float64\n",
      "col2 0    1.744520\n",
      "1    0.720599\n",
      "2   -1.027222\n",
      "3   -0.353158\n",
      "4    0.865414\n",
      "Name: col2, dtype: float64\n",
      "col3 0    0.427598\n",
      "1    0.270351\n",
      "2   -0.910122\n",
      "3    0.786164\n",
      "4   -0.203333\n",
      "Name: col3, dtype: float64\n",
      "col4 0    2.870959\n",
      "1   -0.212712\n",
      "2    1.656304\n",
      "3   -0.556486\n",
      "4   -0.209941\n",
      "Name: col4, dtype: float64\n"
     ]
    }
   ],
   "source": [
    "df = pd.DataFrame(np.random.randn(5,4),columns =['col1','col2','col3','col4'])\n",
    "for key, value in df.iteritems():\n",
    "    print(key,value)\n"
   ]
  },
  {
   "cell_type": "markdown",
   "id": "559b7397",
   "metadata": {},
   "source": [
    "## iterrows() :- iterates over each row as key , value pair "
   ]
  },
  {
   "cell_type": "code",
   "execution_count": 21,
   "id": "1541f6fd",
   "metadata": {},
   "outputs": [
    {
     "name": "stdout",
     "output_type": "stream",
     "text": [
      "0 col1    1.017112\n",
      "col2   -0.589057\n",
      "col3   -0.057863\n",
      "col4   -1.143442\n",
      "Name: 0, dtype: float64\n",
      "1 col1   -0.141282\n",
      "col2   -1.348176\n",
      "col3    0.136692\n",
      "col4    1.244112\n",
      "Name: 1, dtype: float64\n",
      "2 col1   -0.952119\n",
      "col2   -0.476144\n",
      "col3    0.043419\n",
      "col4    1.844344\n",
      "Name: 2, dtype: float64\n",
      "3 col1    1.523378\n",
      "col2    0.469539\n",
      "col3   -0.328933\n",
      "col4   -0.801694\n",
      "Name: 3, dtype: float64\n",
      "4 col1   -0.250913\n",
      "col2   -0.147526\n",
      "col3    1.259217\n",
      "col4   -0.514633\n",
      "Name: 4, dtype: float64\n"
     ]
    }
   ],
   "source": [
    "df = pd.DataFrame(np.random.randn(5,4),columns =['col1','col2','col3','col4'])\n",
    "for key, value in df.iterrows():\n",
    "    print(key,value)"
   ]
  },
  {
   "cell_type": "markdown",
   "id": "2d87b46f",
   "metadata": {},
   "source": [
    "## itertuples() :- returns an iterator yielding a named tuple for each row"
   ]
  },
  {
   "cell_type": "code",
   "execution_count": 24,
   "id": "c1597c98",
   "metadata": {},
   "outputs": [
    {
     "name": "stdout",
     "output_type": "stream",
     "text": [
      "Pandas(Index=0, col1=-0.8652037298004097, col2=-1.1670715004361842, col3=-1.0309404552265158, col4=0.3869256803394107)\n",
      "Pandas(Index=1, col1=-1.3634836846346057, col2=-1.2845064434461704, col3=0.874714915293336, col4=-0.1407968626124412)\n",
      "Pandas(Index=2, col1=-0.7862834328110341, col2=-0.2724967668400483, col3=0.377653138798545, col4=0.9260890306042409)\n",
      "Pandas(Index=3, col1=-0.27194140555964375, col2=-0.4585942116423214, col3=0.3541619427166816, col4=-0.528281486621773)\n",
      "Pandas(Index=4, col1=-0.5489074400972448, col2=0.3257079017164795, col3=0.16563616646916843, col4=-0.22756759399366155)\n"
     ]
    }
   ],
   "source": [
    "df = pd.DataFrame(np.random.randn(5,4),columns =['col1','col2','col3','col4'])\n",
    "for row in df.itertuples():\n",
    "    print(row)"
   ]
  },
  {
   "cell_type": "markdown",
   "id": "46e1f63f",
   "metadata": {},
   "source": [
    "## GroupBy Operations \n",
    "\n",
    "The GroupBy method is used for the purpose of grouping the rows of a dataframe based on the values of one or more column.  The groupby method returns a GroupBy object, which can be used to apply various aggregation and transformation functions to the grouped data."
   ]
  },
  {
   "cell_type": "code",
   "execution_count": 25,
   "id": "678ee205",
   "metadata": {},
   "outputs": [
    {
     "name": "stdout",
     "output_type": "stream",
     "text": [
      "{'CSK': [7], 'DC': [2], 'GL': [3], 'KKR': [9], 'LG': [5], 'MTR': [1], 'RCB': [0, 6], 'RR': [8], 'SF': [10], 'SH': [4]}\n"
     ]
    }
   ],
   "source": [
    "champions = {\"Team\":[\"RCB\",\"MTR\",\"DC\",\"GL\",\"SH\",\"LG\",\"RCB\",\"CSK\",\"RR\",\"KKR\",\"SF\"],\"Rank\":[7,8,6,2,9,3,7,1,4,5,10],\n",
    "             \"Year\":[2010,2008,2012,2017,2019,2014,2016,2018,2009,2010,2013]}\n",
    "df = pd.DataFrame(champions)\n",
    "print(df.groupby(\"Team\").groups)"
   ]
  },
  {
   "cell_type": "code",
   "execution_count": 27,
   "id": "36b73bd1",
   "metadata": {},
   "outputs": [
    {
     "name": "stdout",
     "output_type": "stream",
     "text": [
      "CSK\n",
      "DC\n",
      "GL\n",
      "KKR\n",
      "LG\n",
      "MTR\n",
      "RCB\n",
      "RR\n",
      "SF\n",
      "SH\n"
     ]
    }
   ],
   "source": [
    "# We can also iterate through it\n",
    "grouped = df.groupby(\"Team\")\n",
    "for name,group in grouped:\n",
    "    print(name)\n",
    "    "
   ]
  },
  {
   "cell_type": "code",
   "execution_count": 28,
   "id": "2191f58f",
   "metadata": {},
   "outputs": [
    {
     "name": "stdout",
     "output_type": "stream",
     "text": [
      "  Team  Rank  Year\n",
      "0  RCB     7  2010\n",
      "6  RCB     7  2016\n"
     ]
    }
   ],
   "source": [
    "# We can select a particluar group by using the get_group() method\n",
    "print(grouped.get_group(\"RCB\"))"
   ]
  },
  {
   "cell_type": "markdown",
   "id": "c7645c43",
   "metadata": {},
   "source": [
    "## Aggregations \n",
    "\n",
    "An aggregation function returns a single aggregated values for each group \n",
    "\n"
   ]
  },
  {
   "cell_type": "code",
   "execution_count": 32,
   "id": "af964058",
   "metadata": {},
   "outputs": [
    {
     "data": {
      "text/html": [
       "<div>\n",
       "<style scoped>\n",
       "    .dataframe tbody tr th:only-of-type {\n",
       "        vertical-align: middle;\n",
       "    }\n",
       "\n",
       "    .dataframe tbody tr th {\n",
       "        vertical-align: top;\n",
       "    }\n",
       "\n",
       "    .dataframe thead tr th {\n",
       "        text-align: left;\n",
       "    }\n",
       "\n",
       "    .dataframe thead tr:last-of-type th {\n",
       "        text-align: right;\n",
       "    }\n",
       "</style>\n",
       "<table border=\"1\" class=\"dataframe\">\n",
       "  <thead>\n",
       "    <tr>\n",
       "      <th></th>\n",
       "      <th colspan=\"2\" halign=\"left\">salary</th>\n",
       "    </tr>\n",
       "    <tr>\n",
       "      <th></th>\n",
       "      <th>mean</th>\n",
       "      <th>sum</th>\n",
       "    </tr>\n",
       "    <tr>\n",
       "      <th>gender</th>\n",
       "      <th></th>\n",
       "      <th></th>\n",
       "    </tr>\n",
       "  </thead>\n",
       "  <tbody>\n",
       "    <tr>\n",
       "      <th>F</th>\n",
       "      <td>67500.0</td>\n",
       "      <td>135000</td>\n",
       "    </tr>\n",
       "    <tr>\n",
       "      <th>M</th>\n",
       "      <td>63750.0</td>\n",
       "      <td>255000</td>\n",
       "    </tr>\n",
       "  </tbody>\n",
       "</table>\n",
       "</div>"
      ],
      "text/plain": [
       "         salary        \n",
       "           mean     sum\n",
       "gender                 \n",
       "F       67500.0  135000\n",
       "M       63750.0  255000"
      ]
     },
     "execution_count": 32,
     "metadata": {},
     "output_type": "execute_result"
    }
   ],
   "source": [
    "data = {'name': ['Saurav', 'Saskia', 'Vincent', 'David', 'Paula', 'Frank'],\n",
    "        'age': [25, 30, 35, 40, 35, 30],\n",
    "        'gender': ['M', 'F', 'M', 'M', 'F', 'M'],\n",
    "        'salary': [50000, 60000, 70000, 80000, 75000, 55000] }\n",
    "df = pd.DataFrame(data)\n",
    "grouped = df.groupby(\"gender\")\n",
    "agg_data = grouped.agg({'salary': ['mean', 'sum']})\n",
    "agg_data"
   ]
  },
  {
   "cell_type": "markdown",
   "id": "b8efa7e3",
   "metadata": {},
   "source": [
    "## Concatenation :- The process of combining two or more data strucuture into a single datastructure. concat() method is used for this purpose.  "
   ]
  },
  {
   "cell_type": "code",
   "execution_count": 33,
   "id": "2cd5c171",
   "metadata": {},
   "outputs": [],
   "source": [
    "champions = {\"Team\":[\"GL\",\"SH\",\"CSK\",\"RR\",\"KKR\"],\"Rank\":[1,8,6,2,4],\n",
    "             \"Year\":[2010,2009,2013,2017,2022],\n",
    "            \"Points\":[897,789,765,987,971]}\n",
    "champions_df = pd.DataFrame(champions)"
   ]
  },
  {
   "cell_type": "code",
   "execution_count": 35,
   "id": "e7947437",
   "metadata": {},
   "outputs": [],
   "source": [
    "chokers = {\"Team\":[\"RCB\",\"DC\",\"LSG\"],\"Rank\":[3,5,7],\n",
    "            \"Points\":[387,489,560]}\n",
    "chokers_df = pd.DataFrame(chokers)"
   ]
  },
  {
   "cell_type": "code",
   "execution_count": 37,
   "id": "21e280dc",
   "metadata": {},
   "outputs": [
    {
     "name": "stdout",
     "output_type": "stream",
     "text": [
      "  Team  Rank    Year  Points\n",
      "0   GL     1  2010.0     897\n",
      "1   SH     8  2009.0     789\n",
      "2  CSK     6  2013.0     765\n",
      "3   RR     2  2017.0     987\n",
      "4  KKR     4  2022.0     971\n",
      "0  RCB     3     NaN     387\n",
      "1   DC     5     NaN     489\n",
      "2  LSG     7     NaN     560\n"
     ]
    }
   ],
   "source": [
    "print(pd.concat([champions_df,chokers_df]))"
   ]
  },
  {
   "cell_type": "code",
   "execution_count": 38,
   "id": "16898900",
   "metadata": {},
   "outputs": [
    {
     "name": "stdout",
     "output_type": "stream",
     "text": [
      "  Team  Rank    Year  Points\n",
      "0   GL     1  2010.0     897\n",
      "1   SH     8  2009.0     789\n",
      "2  CSK     6  2013.0     765\n",
      "3   RR     2  2017.0     987\n",
      "4  KKR     4  2022.0     971\n",
      "0  RCB     3     NaN     387\n",
      "1   DC     5     NaN     489\n",
      "2  LSG     7     NaN     560\n"
     ]
    },
    {
     "name": "stderr",
     "output_type": "stream",
     "text": [
      "C:\\Users\\saurava\\AppData\\Local\\Temp\\ipykernel_17104\\885231025.py:1: FutureWarning: The frame.append method is deprecated and will be removed from pandas in a future version. Use pandas.concat instead.\n",
      "  print(champions_df.append(chokers_df))\n"
     ]
    }
   ],
   "source": [
    "print(champions_df.append(chokers_df))"
   ]
  },
  {
   "cell_type": "code",
   "execution_count": 41,
   "id": "228c5ff0",
   "metadata": {},
   "outputs": [
    {
     "name": "stdout",
     "output_type": "stream",
     "text": [
      "  Team  Rank  Year  Points Team  Rank  Points\n",
      "0   GL     1  2010     897  RCB   3.0   387.0\n",
      "1   SH     8  2009     789   DC   5.0   489.0\n",
      "2  CSK     6  2013     765  LSG   7.0   560.0\n",
      "3   RR     2  2017     987  NaN   NaN     NaN\n",
      "4  KKR     4  2022     971  NaN   NaN     NaN\n"
     ]
    }
   ],
   "source": [
    "# axis =1 means that the concatenation will be done horizontally \n",
    "print(pd.concat([champions_df,chokers_df],axis=1))"
   ]
  },
  {
   "cell_type": "markdown",
   "id": "8ebd6ae0",
   "metadata": {},
   "source": [
    "## Merging and Joining \n",
    "\n",
    "Merging is the pandas operation that perform the join operations on objects"
   ]
  },
  {
   "cell_type": "code",
   "execution_count": 54,
   "id": "df2e7633",
   "metadata": {},
   "outputs": [],
   "source": [
    "champions = {\"Team\":[\"GL\",\"SH\",\"CSK\",\"RR\",\"KKR\"],\"Rank\":[1,8,6,2,4],\n",
    "             \"Year\":[2010,2009,2013,2017,2022],\n",
    "            \"Points\":[897,789,765,987,971]}\n",
    "champions_df = pd.DataFrame(champions)\n",
    "match_stats = {\"Team\":[\"GL\",\"SH\",\"CSK\",\"RR\",\"KKR\"],\n",
    "               \"tournament_played\":[11,10,9,12,5],\"matches_played\":[210,150,165,135,216]}\n",
    "match_stats_df = pd.DataFrame(match_stats)"
   ]
  },
  {
   "cell_type": "code",
   "execution_count": 47,
   "id": "53c99203",
   "metadata": {},
   "outputs": [
    {
     "name": "stdout",
     "output_type": "stream",
     "text": [
      "  Team  Rank  Year  Points  tournament_played  matches_played\n",
      "0   GL     1  2010     897                 11             210\n",
      "1   SH     8  2009     789                 10             150\n",
      "2  CSK     6  2013     765                  9             165\n",
      "3   RR     2  2017     987                 12             135\n",
      "4  KKR     4  2022     971                  5             216\n"
     ]
    }
   ],
   "source": [
    "# Merging on the common column \n",
    "\n",
    "print(pd.merge(champions_df,match_stats_df,on=\"Team\"))"
   ]
  },
  {
   "cell_type": "code",
   "execution_count": 50,
   "id": "9faf9079",
   "metadata": {},
   "outputs": [
    {
     "name": "stdout",
     "output_type": "stream",
     "text": [
      "  Team  Rank_x  Year  Points_x  Rank_y  Points_y\n",
      "0   GL       1  2010       897     NaN       NaN\n",
      "1   SH       8  2009       789     NaN       NaN\n",
      "2  CSK       6  2013       765     NaN       NaN\n",
      "3   RR       2  2017       987     NaN       NaN\n",
      "4  KKR       4  2022       971     NaN       NaN\n"
     ]
    }
   ],
   "source": [
    "# Left Join\n",
    "champions = {\"Team\":[\"GL\",\"SH\",\"CSK\",\"RR\",\"KKR\"],\"Rank\":[1,8,6,2,4],\n",
    "             \"Year\":[2010,2009,2013,2017,2022],\n",
    "            \"Points\":[897,789,765,987,971]}\n",
    "champions_df = pd.DataFrame(champions)\n",
    "\n",
    "chokers = {\"Team\":[\"RCB\",\"DC\",\"LSG\"],\"Rank\":[3,5,7],\n",
    "            \"Points\":[387,489,560]}\n",
    "chokers_df = pd.DataFrame(chokers)\n",
    "print(pd.merge(champions_df,chokers_df,on=\"Team\",how=\"left\"))"
   ]
  },
  {
   "cell_type": "code",
   "execution_count": 51,
   "id": "0717c597",
   "metadata": {},
   "outputs": [
    {
     "name": "stdout",
     "output_type": "stream",
     "text": [
      "  Team  Rank_x  Year  Points_x  Rank_y  Points_y\n",
      "0  RCB     NaN   NaN       NaN       3       387\n",
      "1   DC     NaN   NaN       NaN       5       489\n",
      "2  LSG     NaN   NaN       NaN       7       560\n"
     ]
    }
   ],
   "source": [
    "# Right join \n",
    "champions = {\"Team\":[\"GL\",\"SH\",\"CSK\",\"RR\",\"KKR\"],\"Rank\":[1,8,6,2,4],\n",
    "             \"Year\":[2010,2009,2013,2017,2022],\n",
    "            \"Points\":[897,789,765,987,971]}\n",
    "champions_df = pd.DataFrame(champions)\n",
    "\n",
    "chokers = {\"Team\":[\"RCB\",\"DC\",\"LSG\"],\"Rank\":[3,5,7],\n",
    "            \"Points\":[387,489,560]}\n",
    "chokers_df = pd.DataFrame(chokers)\n",
    "print(pd.merge(champions_df,chokers_df,on=\"Team\",how=\"right\"))\n"
   ]
  },
  {
   "cell_type": "code",
   "execution_count": 52,
   "id": "4b907c2b",
   "metadata": {},
   "outputs": [
    {
     "name": "stdout",
     "output_type": "stream",
     "text": [
      "  Team  Rank_x    Year  Points_x  Rank_y  Points_y\n",
      "0   GL     1.0  2010.0     897.0     NaN       NaN\n",
      "1   SH     8.0  2009.0     789.0     NaN       NaN\n",
      "2  CSK     6.0  2013.0     765.0     NaN       NaN\n",
      "3   RR     2.0  2017.0     987.0     NaN       NaN\n",
      "4  KKR     4.0  2022.0     971.0     NaN       NaN\n",
      "5  RCB     NaN     NaN       NaN     3.0     387.0\n",
      "6   DC     NaN     NaN       NaN     5.0     489.0\n",
      "7  LSG     NaN     NaN       NaN     7.0     560.0\n"
     ]
    }
   ],
   "source": [
    "# Outer Join\n",
    "\n",
    "champions = {\"Team\":[\"GL\",\"SH\",\"CSK\",\"RR\",\"KKR\"],\"Rank\":[1,8,6,2,4],\n",
    "             \"Year\":[2010,2009,2013,2017,2022],\n",
    "            \"Points\":[897,789,765,987,971]}\n",
    "champions_df = pd.DataFrame(champions)\n",
    "\n",
    "chokers = {\"Team\":[\"RCB\",\"DC\",\"LSG\"],\"Rank\":[3,5,7],\n",
    "            \"Points\":[387,489,560]}\n",
    "chokers_df = pd.DataFrame(chokers)\n",
    "print(pd.merge(champions_df,chokers_df,on=\"Team\",how=\"outer\"))"
   ]
  },
  {
   "cell_type": "code",
   "execution_count": 53,
   "id": "a583f282",
   "metadata": {},
   "outputs": [
    {
     "name": "stdout",
     "output_type": "stream",
     "text": [
      "Empty DataFrame\n",
      "Columns: [Team, Rank_x, Year, Points_x, Rank_y, Points_y]\n",
      "Index: []\n"
     ]
    }
   ],
   "source": [
    "# Inner join\n",
    "champions = {\"Team\":[\"GL\",\"SH\",\"CSK\",\"RR\",\"KKR\"],\"Rank\":[1,8,6,2,4],\n",
    "             \"Year\":[2010,2009,2013,2017,2022],\n",
    "            \"Points\":[897,789,765,987,971]}\n",
    "champions_df = pd.DataFrame(champions)\n",
    "\n",
    "chokers = {\"Team\":[\"RCB\",\"DC\",\"LSG\"],\"Rank\":[3,5,7],\n",
    "            \"Points\":[387,489,560]}\n",
    "chokers_df = pd.DataFrame(chokers)\n",
    "print(pd.merge(champions_df,chokers_df,on=\"Team\",how=\"inner\"))\n"
   ]
  }
 ],
 "metadata": {
  "kernelspec": {
   "display_name": "Python 3 (ipykernel)",
   "language": "python",
   "name": "python3"
  },
  "language_info": {
   "codemirror_mode": {
    "name": "ipython",
    "version": 3
   },
   "file_extension": ".py",
   "mimetype": "text/x-python",
   "name": "python",
   "nbconvert_exporter": "python",
   "pygments_lexer": "ipython3",
   "version": "3.9.12"
  }
 },
 "nbformat": 4,
 "nbformat_minor": 5
}
