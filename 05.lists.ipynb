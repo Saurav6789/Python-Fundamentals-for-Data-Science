{
 "cells": [
  {
   "cell_type": "markdown",
   "id": "08b23fcf",
   "metadata": {},
   "source": [
    "# Lists\n",
    "\n",
    "Lists are one of the sequence used in Python. They are mutable in nature which means we can modify it's values. In this note book we will discuss about the following topics \n",
    "\n",
    "- Creating lists \n",
    "- Indexing and slicing lists\n",
    "- Built in Lists methods \n",
    "- Nesting Lists\n",
    "- List Comprehension "
   ]
  },
  {
   "cell_type": "code",
   "execution_count": 1,
   "id": "b721385a",
   "metadata": {},
   "outputs": [],
   "source": [
    "# Creating a list of strings\n",
    "\n",
    "my_friends = ['Wilhem','Saskia','Sean','Rakesh']"
   ]
  },
  {
   "cell_type": "code",
   "execution_count": 2,
   "id": "a13de3d7",
   "metadata": {},
   "outputs": [
    {
     "data": {
      "text/plain": [
       "['Wilhem', 'Saskia', 'Sean', 'Rakesh']"
      ]
     },
     "execution_count": 2,
     "metadata": {},
     "output_type": "execute_result"
    }
   ],
   "source": [
    "my_friends"
   ]
  },
  {
   "cell_type": "code",
   "execution_count": 3,
   "id": "59e3424e",
   "metadata": {},
   "outputs": [],
   "source": [
    "# Creating a list of numbers \n",
    "my_marks =[78,56,92]"
   ]
  },
  {
   "cell_type": "code",
   "execution_count": 4,
   "id": "c1dd5e0c",
   "metadata": {},
   "outputs": [
    {
     "data": {
      "text/plain": [
       "[78, 56, 92]"
      ]
     },
     "execution_count": 4,
     "metadata": {},
     "output_type": "execute_result"
    }
   ],
   "source": [
    "my_marks"
   ]
  },
  {
   "cell_type": "code",
   "execution_count": 5,
   "id": "bb44a327",
   "metadata": {},
   "outputs": [],
   "source": [
    "# Creating a list with various data types \n",
    "\n",
    "mix_data = ['Hello',404,12.3,'p']"
   ]
  },
  {
   "cell_type": "code",
   "execution_count": 6,
   "id": "958ed25f",
   "metadata": {},
   "outputs": [
    {
     "data": {
      "text/plain": [
       "4"
      ]
     },
     "execution_count": 6,
     "metadata": {},
     "output_type": "execute_result"
    }
   ],
   "source": [
    "# Use the len method to find the siex of the string \n",
    "\n",
    "len(mix_data)"
   ]
  },
  {
   "cell_type": "markdown",
   "id": "abeb6101",
   "metadata": {},
   "source": [
    "## Indexing and Slicing"
   ]
  },
  {
   "cell_type": "code",
   "execution_count": 7,
   "id": "0679877e",
   "metadata": {},
   "outputs": [
    {
     "data": {
      "text/plain": [
       "404"
      ]
     },
     "execution_count": 7,
     "metadata": {},
     "output_type": "execute_result"
    }
   ],
   "source": [
    "#Grab the element at index 1 \n",
    "mix_data[1]"
   ]
  },
  {
   "cell_type": "code",
   "execution_count": 8,
   "id": "373ba5dd",
   "metadata": {},
   "outputs": [
    {
     "data": {
      "text/plain": [
       "[404, 12.3, 'p']"
      ]
     },
     "execution_count": 8,
     "metadata": {},
     "output_type": "execute_result"
    }
   ],
   "source": [
    "# Grab index 1 and everything passed it \n",
    "mix_data[1:]"
   ]
  },
  {
   "cell_type": "code",
   "execution_count": 9,
   "id": "19a69819",
   "metadata": {},
   "outputs": [
    {
     "data": {
      "text/plain": [
       "['Hello', 404, 12.3]"
      ]
     },
     "execution_count": 9,
     "metadata": {},
     "output_type": "execute_result"
    }
   ],
   "source": [
    "# Grab everything UP TO index 3\n",
    "mix_data[:3]"
   ]
  },
  {
   "cell_type": "code",
   "execution_count": 10,
   "id": "7a4b6b71",
   "metadata": {},
   "outputs": [
    {
     "data": {
      "text/plain": [
       "['Hello', 404, 12.3, 'p', 'new member']"
      ]
     },
     "execution_count": 10,
     "metadata": {},
     "output_type": "execute_result"
    }
   ],
   "source": [
    "# We can use the + symbol to concatenate the lists\n",
    "mix_data +['new member']"
   ]
  },
  {
   "cell_type": "markdown",
   "id": "f9877f19",
   "metadata": {},
   "source": [
    "This will not change the original list"
   ]
  },
  {
   "cell_type": "code",
   "execution_count": 11,
   "id": "31696d85",
   "metadata": {},
   "outputs": [
    {
     "data": {
      "text/plain": [
       "['Hello', 404, 12.3, 'p']"
      ]
     },
     "execution_count": 11,
     "metadata": {},
     "output_type": "execute_result"
    }
   ],
   "source": [
    "mix_data"
   ]
  },
  {
   "cell_type": "code",
   "execution_count": 12,
   "id": "2d6dc66a",
   "metadata": {},
   "outputs": [],
   "source": [
    "# We have to reaasign the lists to make the changes permanent\n",
    "\n",
    "mix_data = mix_data +['added permanently']"
   ]
  },
  {
   "cell_type": "code",
   "execution_count": 13,
   "id": "a59be163",
   "metadata": {},
   "outputs": [
    {
     "data": {
      "text/plain": [
       "['Hello', 404, 12.3, 'p', 'added permanently']"
      ]
     },
     "execution_count": 13,
     "metadata": {},
     "output_type": "execute_result"
    }
   ],
   "source": [
    "mix_data"
   ]
  },
  {
   "cell_type": "code",
   "execution_count": 14,
   "id": "9ee3bfcc",
   "metadata": {},
   "outputs": [
    {
     "data": {
      "text/plain": [
       "['Hello',\n",
       " 404,\n",
       " 12.3,\n",
       " 'p',\n",
       " 'added permanently',\n",
       " 'Hello',\n",
       " 404,\n",
       " 12.3,\n",
       " 'p',\n",
       " 'added permanently']"
      ]
     },
     "execution_count": 14,
     "metadata": {},
     "output_type": "execute_result"
    }
   ],
   "source": [
    "# make the list double \n",
    "mix_data*2"
   ]
  },
  {
   "cell_type": "code",
   "execution_count": 16,
   "id": "2e53e736",
   "metadata": {},
   "outputs": [
    {
     "data": {
      "text/plain": [
       "['Hello', 404, 12.3, 'p', 'added permanently']"
      ]
     },
     "execution_count": 16,
     "metadata": {},
     "output_type": "execute_result"
    }
   ],
   "source": [
    "# Again doubling not permanent\n",
    "mix_data"
   ]
  },
  {
   "cell_type": "markdown",
   "id": "100b81b1",
   "metadata": {},
   "source": [
    "## Built in lists Method"
   ]
  },
  {
   "cell_type": "code",
   "execution_count": 17,
   "id": "9b16d96a",
   "metadata": {},
   "outputs": [],
   "source": [
    "# append method for adding the element in last\n",
    "\n",
    "mix_data.append('append item')"
   ]
  },
  {
   "cell_type": "code",
   "execution_count": 18,
   "id": "86860d24",
   "metadata": {},
   "outputs": [
    {
     "data": {
      "text/plain": [
       "['Hello', 404, 12.3, 'p', 'added permanently', 'append item']"
      ]
     },
     "execution_count": 18,
     "metadata": {},
     "output_type": "execute_result"
    }
   ],
   "source": [
    "mix_data"
   ]
  },
  {
   "cell_type": "code",
   "execution_count": 20,
   "id": "d4f6c1d8",
   "metadata": {},
   "outputs": [
    {
     "data": {
      "text/plain": [
       "'p'"
      ]
     },
     "execution_count": 20,
     "metadata": {},
     "output_type": "execute_result"
    }
   ],
   "source": [
    "#pop method is used to pop an item from list\n",
    "\n",
    "mix_data.pop(3)"
   ]
  },
  {
   "cell_type": "code",
   "execution_count": 21,
   "id": "cd648303",
   "metadata": {},
   "outputs": [
    {
     "data": {
      "text/plain": [
       "['Hello', 404, 12.3, 'added permanently', 'append item']"
      ]
     },
     "execution_count": 21,
     "metadata": {},
     "output_type": "execute_result"
    }
   ],
   "source": [
    "mix_data"
   ]
  },
  {
   "cell_type": "code",
   "execution_count": 23,
   "id": "1943f00a",
   "metadata": {},
   "outputs": [],
   "source": [
    "# Assign the popped element, remember default popped index is -1\n",
    "item_popped = mix_data.pop()"
   ]
  },
  {
   "cell_type": "code",
   "execution_count": 24,
   "id": "a0447563",
   "metadata": {},
   "outputs": [
    {
     "data": {
      "text/plain": [
       "'append item'"
      ]
     },
     "execution_count": 24,
     "metadata": {},
     "output_type": "execute_result"
    }
   ],
   "source": [
    "item_popped"
   ]
  },
  {
   "cell_type": "code",
   "execution_count": 25,
   "id": "aca7e127",
   "metadata": {},
   "outputs": [
    {
     "data": {
      "text/plain": [
       "['Hello', 404, 12.3, 'added permanently']"
      ]
     },
     "execution_count": 25,
     "metadata": {},
     "output_type": "execute_result"
    }
   ],
   "source": [
    "# Remaining list\n",
    "mix_data"
   ]
  },
  {
   "cell_type": "code",
   "execution_count": 26,
   "id": "d249479a",
   "metadata": {},
   "outputs": [
    {
     "ename": "IndexError",
     "evalue": "list index out of range",
     "output_type": "error",
     "traceback": [
      "\u001b[1;31m---------------------------------------------------------------------------\u001b[0m",
      "\u001b[1;31mIndexError\u001b[0m                                Traceback (most recent call last)",
      "Input \u001b[1;32mIn [26]\u001b[0m, in \u001b[0;36m<cell line: 3>\u001b[1;34m()\u001b[0m\n\u001b[0;32m      1\u001b[0m \u001b[38;5;66;03m# Error when we try to access any element which is not present at index \u001b[39;00m\n\u001b[1;32m----> 3\u001b[0m \u001b[43mmix_data\u001b[49m\u001b[43m[\u001b[49m\u001b[38;5;241;43m25\u001b[39;49m\u001b[43m]\u001b[49m\n",
      "\u001b[1;31mIndexError\u001b[0m: list index out of range"
     ]
    }
   ],
   "source": [
    "# Error when we try to access any element which is not present at index \n",
    "\n",
    "mix_data[25]"
   ]
  },
  {
   "cell_type": "code",
   "execution_count": 27,
   "id": "216524a0",
   "metadata": {},
   "outputs": [],
   "source": [
    "new_list = [12,8,14,56,21,75]"
   ]
  },
  {
   "cell_type": "code",
   "execution_count": 28,
   "id": "95497ffd",
   "metadata": {},
   "outputs": [],
   "source": [
    "# reverse the order of the list \n",
    "new_list.reverse()"
   ]
  },
  {
   "cell_type": "code",
   "execution_count": 29,
   "id": "d6042932",
   "metadata": {},
   "outputs": [
    {
     "data": {
      "text/plain": [
       "[75, 21, 56, 14, 8, 12]"
      ]
     },
     "execution_count": 29,
     "metadata": {},
     "output_type": "execute_result"
    }
   ],
   "source": [
    "new_list"
   ]
  },
  {
   "cell_type": "code",
   "execution_count": 31,
   "id": "e5457e23",
   "metadata": {},
   "outputs": [
    {
     "data": {
      "text/plain": [
       "[8, 12, 14, 21, 56, 75]"
      ]
     },
     "execution_count": 31,
     "metadata": {},
     "output_type": "execute_result"
    }
   ],
   "source": [
    "# Sort the list in ascending order\n",
    "new_list.sort()\n",
    "new_list"
   ]
  },
  {
   "cell_type": "code",
   "execution_count": 33,
   "id": "a968281d",
   "metadata": {},
   "outputs": [
    {
     "data": {
      "text/plain": [
       "[75, 56, 21, 14, 12, 8]"
      ]
     },
     "execution_count": 33,
     "metadata": {},
     "output_type": "execute_result"
    }
   ],
   "source": [
    "new_list.sort(reverse=True)\n",
    "new_list"
   ]
  },
  {
   "cell_type": "markdown",
   "id": "ac6a945d",
   "metadata": {},
   "source": [
    "## Nesting Lists "
   ]
  },
  {
   "cell_type": "code",
   "execution_count": 34,
   "id": "970585d5",
   "metadata": {},
   "outputs": [],
   "source": [
    "list_1 = [10,20,30,40]\n",
    "list_2 = [50,60,70,80]\n",
    "list_3 = [90,100,110,120]"
   ]
  },
  {
   "cell_type": "code",
   "execution_count": 35,
   "id": "9a8abc9a",
   "metadata": {},
   "outputs": [
    {
     "data": {
      "text/plain": [
       "[[10, 20, 30, 40], [50, 60, 70, 80], [90, 100, 110, 120]]"
      ]
     },
     "execution_count": 35,
     "metadata": {},
     "output_type": "execute_result"
    }
   ],
   "source": [
    "# We will make a matrix using the above created list\n",
    "matrix = [list_1,list_2,list_3]\n",
    "matrix"
   ]
  },
  {
   "cell_type": "code",
   "execution_count": 36,
   "id": "1991791b",
   "metadata": {},
   "outputs": [
    {
     "data": {
      "text/plain": [
       "[10, 20, 30, 40]"
      ]
     },
     "execution_count": 36,
     "metadata": {},
     "output_type": "execute_result"
    }
   ],
   "source": [
    "# Grab the first element of the matrix object\n",
    "\n",
    "matrix[0]"
   ]
  },
  {
   "cell_type": "code",
   "execution_count": 37,
   "id": "3853e545",
   "metadata": {},
   "outputs": [
    {
     "data": {
      "text/plain": [
       "50"
      ]
     },
     "execution_count": 37,
     "metadata": {},
     "output_type": "execute_result"
    }
   ],
   "source": [
    "# Grab the first item of the second element \n",
    "\n",
    "matrix[1][0]"
   ]
  },
  {
   "cell_type": "markdown",
   "id": "0bc44ab5",
   "metadata": {},
   "source": [
    "### List Comprehensions\n",
    "\n",
    "List comprehensions are a concise way to create a new list by applying a transformation to each element of an existing iterable (e.g. list, tuple, set, or generator) and optionally filtering the results based on a condition.The basic syntax\n",
    "\n",
    "new_list = [expression for item in iterable if condition]\n"
   ]
  },
  {
   "cell_type": "code",
   "execution_count": 38,
   "id": "5d3068fc",
   "metadata": {},
   "outputs": [],
   "source": [
    "numbers = [1, 2, 3, 4, 5, 6, 7, 8, 9, 10]\n",
    "squares = [x**2 for x in numbers if x % 2 == 0]"
   ]
  },
  {
   "cell_type": "code",
   "execution_count": 39,
   "id": "6eb0cd85",
   "metadata": {},
   "outputs": [
    {
     "data": {
      "text/plain": [
       "[4, 16, 36, 64, 100]"
      ]
     },
     "execution_count": 39,
     "metadata": {},
     "output_type": "execute_result"
    }
   ],
   "source": [
    "squares"
   ]
  }
 ],
 "metadata": {
  "kernelspec": {
   "display_name": "Python 3 (ipykernel)",
   "language": "python",
   "name": "python3"
  },
  "language_info": {
   "codemirror_mode": {
    "name": "ipython",
    "version": 3
   },
   "file_extension": ".py",
   "mimetype": "text/x-python",
   "name": "python",
   "nbconvert_exporter": "python",
   "pygments_lexer": "ipython3",
   "version": "3.9.12"
  }
 },
 "nbformat": 4,
 "nbformat_minor": 5
}
