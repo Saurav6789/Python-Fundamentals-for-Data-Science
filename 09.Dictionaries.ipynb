{
 "cells": [
  {
   "cell_type": "markdown",
   "id": "f848ce1b",
   "metadata": {},
   "source": [
    "# Dictionaries \n",
    "\n",
    "Dictionaries are one of the most important sequences used in Python. They uses the concept of mapping which means the values are stored by a key instead of indexes. They are unordered data structure and they are defined by their key. So a Python dictionary consists of a key and then an asscoiated value. That value can be any Python object. \n",
    "\n",
    "In this notebook , we are going to discuss following topics in details : \n",
    "\n",
    "- Creating dictionaries \n",
    "- Accessing objects from dictionaries\n",
    "- Nesting Dictionaries \n",
    "- Basic Dictionary Methods "
   ]
  },
  {
   "cell_type": "markdown",
   "id": "3c8716da",
   "metadata": {},
   "source": [
    "## Creating Dictionaries "
   ]
  },
  {
   "cell_type": "code",
   "execution_count": 1,
   "id": "95b85108",
   "metadata": {},
   "outputs": [],
   "source": [
    "dict={1:\"Python\",2:\"Android\", 3:\"Java\",4:\"Ruby\"}"
   ]
  },
  {
   "cell_type": "code",
   "execution_count": 2,
   "id": "5f06cd91",
   "metadata": {},
   "outputs": [
    {
     "name": "stdout",
     "output_type": "stream",
     "text": [
      "{1: 'Python', 2: 'Android', 3: 'Java', 4: 'Ruby'}\n"
     ]
    }
   ],
   "source": [
    "print(dict)"
   ]
  },
  {
   "cell_type": "code",
   "execution_count": 3,
   "id": "36d76fba",
   "metadata": {},
   "outputs": [
    {
     "name": "stdout",
     "output_type": "stream",
     "text": [
      "Python\n"
     ]
    }
   ],
   "source": [
    "# Call values by their key\n",
    "print(dict[1])"
   ]
  },
  {
   "cell_type": "code",
   "execution_count": 4,
   "id": "0533297f",
   "metadata": {},
   "outputs": [],
   "source": [
    "dict_employee ={'Name':\"Peter\",'Age':45,'Nationality':'Dutch','lang':['english','dutch','german','french']}"
   ]
  },
  {
   "cell_type": "markdown",
   "id": "9593888a",
   "metadata": {},
   "source": [
    "## Accessing objects from dictionaries"
   ]
  },
  {
   "cell_type": "code",
   "execution_count": 6,
   "id": "26c26b91",
   "metadata": {},
   "outputs": [
    {
     "data": {
      "text/plain": [
       "['english', 'dutch', 'german', 'french']"
      ]
     },
     "execution_count": 6,
     "metadata": {},
     "output_type": "execute_result"
    }
   ],
   "source": [
    "dict_employee['lang']"
   ]
  },
  {
   "cell_type": "code",
   "execution_count": 7,
   "id": "d3a3f9a8",
   "metadata": {},
   "outputs": [
    {
     "data": {
      "text/plain": [
       "'english'"
      ]
     },
     "execution_count": 7,
     "metadata": {},
     "output_type": "execute_result"
    }
   ],
   "source": [
    "#We can call the index of that value \n",
    "dict_employee['lang'][0]"
   ]
  },
  {
   "cell_type": "code",
   "execution_count": 11,
   "id": "791a2305",
   "metadata": {},
   "outputs": [
    {
     "data": {
      "text/plain": [
       "'ENGLISH'"
      ]
     },
     "execution_count": 11,
     "metadata": {},
     "output_type": "execute_result"
    }
   ],
   "source": [
    "# Can then even call methods on that value\n",
    "dict_employee['lang'][0].upper()"
   ]
  },
  {
   "cell_type": "code",
   "execution_count": 12,
   "id": "c5236187",
   "metadata": {},
   "outputs": [],
   "source": [
    "# We can change the values \n",
    "\n",
    "dict_employee['Age'] = dict_employee['Age'] +7"
   ]
  },
  {
   "cell_type": "code",
   "execution_count": 13,
   "id": "67014cc4",
   "metadata": {},
   "outputs": [
    {
     "data": {
      "text/plain": [
       "52"
      ]
     },
     "execution_count": 13,
     "metadata": {},
     "output_type": "execute_result"
    }
   ],
   "source": [
    "dict_employee['Age']"
   ]
  },
  {
   "cell_type": "code",
   "execution_count": 14,
   "id": "e83af86f",
   "metadata": {},
   "outputs": [],
   "source": [
    "# We can also create dictionaries thorugh assignments\n",
    "\n",
    "new_dict ={}"
   ]
  },
  {
   "cell_type": "code",
   "execution_count": 15,
   "id": "164161b7",
   "metadata": {},
   "outputs": [],
   "source": [
    "new_dict['animal'] = 'cat'"
   ]
  },
  {
   "cell_type": "code",
   "execution_count": 16,
   "id": "9830f340",
   "metadata": {},
   "outputs": [],
   "source": [
    "new_dict['age'] = 2"
   ]
  },
  {
   "cell_type": "code",
   "execution_count": 17,
   "id": "acf25495",
   "metadata": {},
   "outputs": [
    {
     "data": {
      "text/plain": [
       "{'animal': 'cat', 'age': 2}"
      ]
     },
     "execution_count": 17,
     "metadata": {},
     "output_type": "execute_result"
    }
   ],
   "source": [
    "new_dict"
   ]
  },
  {
   "cell_type": "markdown",
   "id": "1ef65ec5",
   "metadata": {},
   "source": [
    "## Nesting with Dictionaries \n",
    "\n",
    "We can have a dictionary inside a dictionary"
   ]
  },
  {
   "cell_type": "code",
   "execution_count": 18,
   "id": "84c80465",
   "metadata": {},
   "outputs": [],
   "source": [
    "dict_nested = {'Person':{'Peter':{'Age':42}}}"
   ]
  },
  {
   "cell_type": "code",
   "execution_count": 19,
   "id": "774fce91",
   "metadata": {},
   "outputs": [
    {
     "data": {
      "text/plain": [
       "42"
      ]
     },
     "execution_count": 19,
     "metadata": {},
     "output_type": "execute_result"
    }
   ],
   "source": [
    "dict_nested['Person']['Peter']['Age']"
   ]
  },
  {
   "cell_type": "markdown",
   "id": "5a212b84",
   "metadata": {},
   "source": [
    "## Basic dictionary Methods  "
   ]
  },
  {
   "cell_type": "code",
   "execution_count": 23,
   "id": "34876c76",
   "metadata": {},
   "outputs": [
    {
     "data": {
      "text/plain": [
       "4"
      ]
     },
     "execution_count": 23,
     "metadata": {},
     "output_type": "execute_result"
    }
   ],
   "source": [
    "len(dict_employee)"
   ]
  },
  {
   "cell_type": "code",
   "execution_count": 24,
   "id": "d9116ca2",
   "metadata": {},
   "outputs": [
    {
     "data": {
      "text/plain": [
       "dict"
      ]
     },
     "execution_count": 24,
     "metadata": {},
     "output_type": "execute_result"
    }
   ],
   "source": [
    "type(dict_employee)"
   ]
  },
  {
   "cell_type": "code",
   "execution_count": 25,
   "id": "b8dd0c40",
   "metadata": {},
   "outputs": [
    {
     "name": "stdout",
     "output_type": "stream",
     "text": [
      "{1: 'Python', 2: 'Android', 3: 'Java', 4: 'Ruby'}\n"
     ]
    }
   ],
   "source": [
    "print(dict.copy())"
   ]
  },
  {
   "cell_type": "code",
   "execution_count": 26,
   "id": "dc5cf9ce",
   "metadata": {},
   "outputs": [],
   "source": [
    "# Remove all the values \n",
    "dict.clear()"
   ]
  },
  {
   "cell_type": "code",
   "execution_count": 27,
   "id": "486ebe6c",
   "metadata": {},
   "outputs": [
    {
     "name": "stdout",
     "output_type": "stream",
     "text": [
      "{}\n"
     ]
    }
   ],
   "source": [
    "print(dict)"
   ]
  },
  {
   "cell_type": "code",
   "execution_count": 20,
   "id": "dc0b11aa",
   "metadata": {},
   "outputs": [
    {
     "data": {
      "text/plain": [
       "dict_keys(['Name', 'Age', 'Nationality', 'lang'])"
      ]
     },
     "execution_count": 20,
     "metadata": {},
     "output_type": "execute_result"
    }
   ],
   "source": [
    "# return all the keys \n",
    "dict_employee.keys()"
   ]
  },
  {
   "cell_type": "code",
   "execution_count": 21,
   "id": "a44c03fd",
   "metadata": {},
   "outputs": [
    {
     "data": {
      "text/plain": [
       "dict_values(['Peter', 52, 'Dutch', ['english', 'dutch', 'german', 'french']])"
      ]
     },
     "execution_count": 21,
     "metadata": {},
     "output_type": "execute_result"
    }
   ],
   "source": [
    "# Get all the values \n",
    "dict_employee.values()"
   ]
  },
  {
   "cell_type": "code",
   "execution_count": 22,
   "id": "73ec518e",
   "metadata": {},
   "outputs": [
    {
     "data": {
      "text/plain": [
       "dict_items([('Name', 'Peter'), ('Age', 52), ('Nationality', 'Dutch'), ('lang', ['english', 'dutch', 'german', 'french'])])"
      ]
     },
     "execution_count": 22,
     "metadata": {},
     "output_type": "execute_result"
    }
   ],
   "source": [
    "# Method to return the tuples of all the items\n",
    "dict_employee.items()"
   ]
  },
  {
   "cell_type": "code",
   "execution_count": 28,
   "id": "23574aa7",
   "metadata": {},
   "outputs": [
    {
     "name": "stdout",
     "output_type": "stream",
     "text": [
      "4\n"
     ]
    }
   ],
   "source": [
    "print(new_dict.setdefault(1,4))"
   ]
  },
  {
   "cell_type": "code",
   "execution_count": 29,
   "id": "cd3bbb24",
   "metadata": {},
   "outputs": [
    {
     "data": {
      "text/plain": [
       "{'animal': 'cat', 'age': 2, 1: 4}"
      ]
     },
     "execution_count": 29,
     "metadata": {},
     "output_type": "execute_result"
    }
   ],
   "source": [
    "new_dict"
   ]
  },
  {
   "cell_type": "code",
   "execution_count": 30,
   "id": "37c6f975",
   "metadata": {},
   "outputs": [
    {
     "name": "stdout",
     "output_type": "stream",
     "text": [
      "[3, 1, 2]\n",
      "[1, 2, 3]\n"
     ]
    }
   ],
   "source": [
    "dic={3:'Python',1:'Java',2:'Big Data'}\n",
    "ks=list(dic.keys())\n",
    "print(ks)\n",
    "sk=sorted(ks)\n",
    "print(sk)"
   ]
  },
  {
   "cell_type": "code",
   "execution_count": 31,
   "id": "12ff6152",
   "metadata": {},
   "outputs": [
    {
     "name": "stdout",
     "output_type": "stream",
     "text": [
      "1 => Java\n",
      "2 => Big Data\n",
      "3 => Python\n"
     ]
    }
   ],
   "source": [
    "for key in sk:\n",
    "    print(key,'=>',dic[key])"
   ]
  },
  {
   "cell_type": "code",
   "execution_count": null,
   "id": "f5941b17",
   "metadata": {},
   "outputs": [],
   "source": []
  }
 ],
 "metadata": {
  "kernelspec": {
   "display_name": "Python 3 (ipykernel)",
   "language": "python",
   "name": "python3"
  },
  "language_info": {
   "codemirror_mode": {
    "name": "ipython",
    "version": 3
   },
   "file_extension": ".py",
   "mimetype": "text/x-python",
   "name": "python",
   "nbconvert_exporter": "python",
   "pygments_lexer": "ipython3",
   "version": "3.9.12"
  }
 },
 "nbformat": 4,
 "nbformat_minor": 5
}
