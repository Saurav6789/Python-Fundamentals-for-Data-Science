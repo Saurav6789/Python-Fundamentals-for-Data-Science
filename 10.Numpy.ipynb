{
 "cells": [
  {
   "cell_type": "markdown",
   "id": "e08a8df0",
   "metadata": {},
   "source": [
    "# Numpy \n",
    "\n",
    "Numpy is python's package for doing math that is more advanced than +-*/\n",
    "\n",
    "This includes special functions like cosine, exponential, sqrt, ...\n",
    "\n",
    "On top of this we can use numpy to generate samples from many types of random variables\n",
    "\n",
    "Numpy also has a powerful data type to define vectors, matrices, and tensors\n",
    "\n",
    "With these data types numpy also allows us to do linear algebra - matrix multiplication and matrix-vector solutions\n",
    "\n",
    "**Official Website :-**\n",
    "\n",
    "https://numpy.org/doc/stable/user/basics.html"
   ]
  },
  {
   "cell_type": "markdown",
   "id": "1fb43183",
   "metadata": {},
   "source": [
    "## Install Numpy \n",
    "\n",
    "pip install numpy"
   ]
  },
  {
   "cell_type": "markdown",
   "id": "0cf57eb1",
   "metadata": {},
   "source": [
    "## Import numpy "
   ]
  },
  {
   "cell_type": "code",
   "execution_count": 1,
   "id": "66c3b240",
   "metadata": {},
   "outputs": [],
   "source": [
    "import numpy as np "
   ]
  },
  {
   "cell_type": "markdown",
   "id": "0f3dd455",
   "metadata": {},
   "source": [
    "## Creating Arrays "
   ]
  },
  {
   "cell_type": "code",
   "execution_count": 2,
   "id": "befb043d",
   "metadata": {},
   "outputs": [
    {
     "name": "stdout",
     "output_type": "stream",
     "text": [
      "[1 2 3]\n"
     ]
    }
   ],
   "source": [
    "# Let's start with one dimensional array which is also called as vector \n",
    "\n",
    "vec = np.array([1,2,3])\n",
    "print(vec)"
   ]
  },
  {
   "cell_type": "code",
   "execution_count": 3,
   "id": "61806df4",
   "metadata": {},
   "outputs": [
    {
     "name": "stdout",
     "output_type": "stream",
     "text": [
      "[[1 2 1]\n",
      " [4 5 9]\n",
      " [1 8 9]]\n"
     ]
    }
   ],
   "source": [
    "# We can also create muli dimensional arrays by converting the lists of lists. Multi dimensional arrays are also called matrix\n",
    "mat = np.array([[1,2,1],[4,5,9],[1,8,9]])\n",
    "print(mat)"
   ]
  },
  {
   "cell_type": "code",
   "execution_count": 4,
   "id": "66585de0",
   "metadata": {},
   "outputs": [
    {
     "name": "stdout",
     "output_type": "stream",
     "text": [
      "[ 0  1  2  3  4  5  6  7  8  9 10 11 12 13 14]\n"
     ]
    }
   ],
   "source": [
    "# creating arrays using the arange method \n",
    "vec2 = np.arange(0,15)\n",
    "print(vec2)"
   ]
  },
  {
   "cell_type": "code",
   "execution_count": 5,
   "id": "730c1ae3",
   "metadata": {},
   "outputs": [
    {
     "name": "stdout",
     "output_type": "stream",
     "text": [
      "[ 3  9 15]\n"
     ]
    }
   ],
   "source": [
    "# Creating the numpy array using the arange method along with step size\n",
    "vec3 = np.arange(3,21,6)\n",
    "print(vec3)"
   ]
  },
  {
   "cell_type": "code",
   "execution_count": 6,
   "id": "7bce492f",
   "metadata": {},
   "outputs": [
    {
     "name": "stdout",
     "output_type": "stream",
     "text": [
      "[0.         0.55555556 1.11111111 1.66666667 2.22222222 2.77777778\n",
      " 3.33333333 3.88888889 4.44444444 5.        ]\n"
     ]
    }
   ],
   "source": [
    "# Creating arrays using the linspace method \n",
    "vec4 = np.linspace(0,5,10)\n",
    "print(vec4)"
   ]
  },
  {
   "cell_type": "code",
   "execution_count": 7,
   "id": "1775937c",
   "metadata": {},
   "outputs": [
    {
     "name": "stdout",
     "output_type": "stream",
     "text": [
      "[[0.         0.55555556]\n",
      " [1.11111111 1.66666667]\n",
      " [2.22222222 2.77777778]\n",
      " [3.33333333 3.88888889]\n",
      " [4.44444444 5.        ]]\n"
     ]
    }
   ],
   "source": [
    "# We can also reshape the arrays\n",
    "vec4_reshaped = vec4.reshape(5,2)\n",
    "print(vec4_reshaped)"
   ]
  },
  {
   "cell_type": "code",
   "execution_count": 8,
   "id": "f1e759d5",
   "metadata": {},
   "outputs": [
    {
     "data": {
      "text/plain": [
       "array([0.        , 0.55555556, 1.11111111, 1.66666667, 2.22222222,\n",
       "       2.77777778, 3.33333333, 3.88888889, 4.44444444, 5.        ])"
      ]
     },
     "execution_count": 8,
     "metadata": {},
     "output_type": "execute_result"
    }
   ],
   "source": [
    "# To flatten the array into single dimension\n",
    "vec4_reshaped.ravel()"
   ]
  },
  {
   "cell_type": "code",
   "execution_count": 9,
   "id": "6d52ef49",
   "metadata": {},
   "outputs": [
    {
     "name": "stdout",
     "output_type": "stream",
     "text": [
      "[[0. 0. 0.]\n",
      " [0. 0. 0.]\n",
      " [0. 0. 0.]\n",
      " [0. 0. 0.]\n",
      " [0. 0. 0.]]\n"
     ]
    }
   ],
   "source": [
    "# Using the zeroes method \n",
    "mat2 = np.zeros([5,3])\n",
    "print(mat2)"
   ]
  },
  {
   "cell_type": "code",
   "execution_count": 10,
   "id": "7642e1d3",
   "metadata": {},
   "outputs": [
    {
     "name": "stdout",
     "output_type": "stream",
     "text": [
      "[[1. 1. 1. 1. 1.]\n",
      " [1. 1. 1. 1. 1.]\n",
      " [1. 1. 1. 1. 1.]]\n"
     ]
    }
   ],
   "source": [
    "# Using the ones method \n",
    "\n",
    "mat3 = np.ones((3,5))\n",
    "print(mat3)"
   ]
  },
  {
   "cell_type": "code",
   "execution_count": 11,
   "id": "fc3454c8",
   "metadata": {},
   "outputs": [
    {
     "name": "stdout",
     "output_type": "stream",
     "text": [
      "[[1. 0. 0. 0. 0.]\n",
      " [0. 1. 0. 0. 0.]\n",
      " [0. 0. 1. 0. 0.]\n",
      " [0. 0. 0. 1. 0.]\n",
      " [0. 0. 0. 0. 1.]]\n"
     ]
    }
   ],
   "source": [
    "# Eye method \n",
    "mat4 = np.eye(5)\n",
    "print(mat4)"
   ]
  },
  {
   "cell_type": "markdown",
   "id": "46159db3",
   "metadata": {},
   "source": [
    "##  Maths Functions "
   ]
  },
  {
   "cell_type": "code",
   "execution_count": 14,
   "id": "c86222c2",
   "metadata": {},
   "outputs": [
    {
     "data": {
      "text/plain": [
       "array([[0.04836202, 0.47515613, 0.68620383, 0.0693193 , 0.47258702],\n",
       "       [0.93633212, 0.52978533, 0.51094005, 0.14810508, 0.19461213],\n",
       "       [0.94121222, 0.91929442, 0.85673321, 0.49717124, 0.50485445],\n",
       "       [0.20713655, 0.83340237, 0.80126429, 0.75208897, 0.13026511],\n",
       "       [0.35325222, 0.79292827, 0.90450293, 0.39530043, 0.10822607]])"
      ]
     },
     "execution_count": 14,
     "metadata": {},
     "output_type": "execute_result"
    }
   ],
   "source": [
    "rand_arr = np.random.rand(5,5)\n",
    "rand_arr"
   ]
  },
  {
   "cell_type": "code",
   "execution_count": 15,
   "id": "aa5d885b",
   "metadata": {},
   "outputs": [
    {
     "name": "stdout",
     "output_type": "stream",
     "text": [
      "[[10.04836202 10.47515613 10.68620383 10.0693193  10.47258702]\n",
      " [10.93633212 10.52978533 10.51094005 10.14810508 10.19461213]\n",
      " [10.94121222 10.91929442 10.85673321 10.49717124 10.50485445]\n",
      " [10.20713655 10.83340237 10.80126429 10.75208897 10.13026511]\n",
      " [10.35325222 10.79292827 10.90450293 10.39530043 10.10822607]]\n",
      "[[-9.95163798 -9.52484387 -9.31379617 -9.9306807  -9.52741298]\n",
      " [-9.06366788 -9.47021467 -9.48905995 -9.85189492 -9.80538787]\n",
      " [-9.05878778 -9.08070558 -9.14326679 -9.50282876 -9.49514555]\n",
      " [-9.79286345 -9.16659763 -9.19873571 -9.24791103 -9.86973489]\n",
      " [-9.64674778 -9.20707173 -9.09549707 -9.60469957 -9.89177393]]\n",
      "[[0.48362024 4.75156125 6.86203833 0.693193   4.72587024]\n",
      " [9.36332123 5.2978533  5.10940054 1.48105085 1.94612126]\n",
      " [9.41212221 9.19294424 8.56733211 4.97171244 5.04854446]\n",
      " [2.07136547 8.33402368 8.01264291 7.52088968 1.30265105]\n",
      " [3.53252219 7.92928272 9.0450293  3.95300432 1.08226073]]\n",
      "[[0.0048362  0.04751561 0.06862038 0.00693193 0.0472587 ]\n",
      " [0.09363321 0.05297853 0.05109401 0.01481051 0.01946121]\n",
      " [0.09412122 0.09192944 0.08567332 0.04971712 0.05048544]\n",
      " [0.02071365 0.08334024 0.08012643 0.0752089  0.01302651]\n",
      " [0.03532522 0.07929283 0.09045029 0.03953004 0.01082261]]\n"
     ]
    }
   ],
   "source": [
    "#element-wise addition, subtraction, multiplication and division\n",
    "\n",
    "print(rand_arr + 10)\n",
    "print(rand_arr - 10)\n",
    "print(rand_arr * 10)\n",
    "print(rand_arr / 10)"
   ]
  },
  {
   "cell_type": "code",
   "execution_count": 16,
   "id": "f70e0844",
   "metadata": {},
   "outputs": [
    {
     "name": "stdout",
     "output_type": "stream",
     "text": [
      "[ 9 11 13]\n"
     ]
    }
   ],
   "source": [
    "# We can use built in methods also for the above operations \n",
    "\n",
    "arr1 = np.array([1,2,3])\n",
    "np.add(arr1, [8,9,10], out=arr1)\n",
    "print(arr1)"
   ]
  },
  {
   "cell_type": "code",
   "execution_count": 17,
   "id": "5986ade8",
   "metadata": {},
   "outputs": [
    {
     "name": "stdout",
     "output_type": "stream",
     "text": [
      "[1 2 3]\n"
     ]
    }
   ],
   "source": [
    "np.subtract(arr1, [8,9,10], out=arr1)\n",
    "print(arr1)"
   ]
  },
  {
   "cell_type": "code",
   "execution_count": 18,
   "id": "1d10a5b4",
   "metadata": {},
   "outputs": [
    {
     "name": "stdout",
     "output_type": "stream",
     "text": [
      "[1 4 9]\n"
     ]
    }
   ],
   "source": [
    "np.multiply(arr1, [1,2,3], out=arr1)\n",
    "print(arr1)"
   ]
  },
  {
   "cell_type": "code",
   "execution_count": 20,
   "id": "0f150a86",
   "metadata": {},
   "outputs": [
    {
     "name": "stdout",
     "output_type": "stream",
     "text": [
      "[2.71828183e+00 5.45981500e+01 8.10308393e+03]\n"
     ]
    }
   ],
   "source": [
    "# element-wise exponentiation\n",
    "print(np.exp(arr1))"
   ]
  },
  {
   "cell_type": "code",
   "execution_count": 22,
   "id": "7ab3a0a7",
   "metadata": {},
   "outputs": [
    {
     "name": "stdout",
     "output_type": "stream",
     "text": [
      "[0.         1.38629436 2.19722458]\n"
     ]
    }
   ],
   "source": [
    "# element-wise logorithm natural log\n",
    "print(np.log(arr1)) "
   ]
  },
  {
   "cell_type": "code",
   "execution_count": 23,
   "id": "3eb0da5d",
   "metadata": {},
   "outputs": [
    {
     "name": "stdout",
     "output_type": "stream",
     "text": [
      "[0.       2.       3.169925]\n"
     ]
    }
   ],
   "source": [
    "# base 2\n",
    "print(np.log2(arr1))"
   ]
  },
  {
   "cell_type": "code",
   "execution_count": 24,
   "id": "0582b015",
   "metadata": {},
   "outputs": [
    {
     "name": "stdout",
     "output_type": "stream",
     "text": [
      "[1. 2. 3.]\n"
     ]
    }
   ],
   "source": [
    "# square root \n",
    "print(np.sqrt(arr1))"
   ]
  },
  {
   "cell_type": "code",
   "execution_count": 26,
   "id": "9386dfc8",
   "metadata": {},
   "outputs": [
    {
     "name": "stdout",
     "output_type": "stream",
     "text": [
      "[ 0.84147098 -0.7568025   0.41211849]\n",
      "[ 0.54030231 -0.65364362 -0.91113026]\n"
     ]
    }
   ],
   "source": [
    "# Sine and cosine \n",
    "\n",
    "print(np.sin(arr1))\n",
    "print(np.cos(arr1))"
   ]
  },
  {
   "cell_type": "markdown",
   "id": "28605b9e",
   "metadata": {},
   "source": [
    "### Assignment\n",
    "\n",
    "1. How to get the max and min value in 1 and 2 dimensional array ?\n",
    "2. How to get the max and min value along a speccified axis?\n",
    "3. Compute the indices of the min and max along a specified axis?\n",
    "4. Compute element-wise min and max of two arrays?\n",
    "5. Compute the mean, median , percentile , sd and variance"
   ]
  },
  {
   "cell_type": "markdown",
   "id": "dc50d64e",
   "metadata": {},
   "source": [
    "## Sampling methods "
   ]
  },
  {
   "cell_type": "code",
   "execution_count": 27,
   "id": "51245842",
   "metadata": {},
   "outputs": [
    {
     "name": "stdout",
     "output_type": "stream",
     "text": [
      "0.17240324361139503\n"
     ]
    }
   ],
   "source": [
    "# generate a random scalar\n",
    "print(np.random.rand()) "
   ]
  },
  {
   "cell_type": "code",
   "execution_count": 28,
   "id": "68b974f0",
   "metadata": {},
   "outputs": [
    {
     "name": "stdout",
     "output_type": "stream",
     "text": [
      "[0.40221127 0.58940701 0.28811124]\n"
     ]
    }
   ],
   "source": [
    "# generate a 1-D array\n",
    "print(np.random.rand(3))"
   ]
  },
  {
   "cell_type": "code",
   "execution_count": 29,
   "id": "c793aed2",
   "metadata": {},
   "outputs": [
    {
     "name": "stdout",
     "output_type": "stream",
     "text": [
      "[[0.03740326 0.057525   0.13351603]\n",
      " [0.77023397 0.55190964 0.13804687]\n",
      " [0.97175347 0.01437481 0.84717654]]\n"
     ]
    }
   ],
   "source": [
    "# generate a 2-D array\n",
    "print(np.random.rand(3,3))"
   ]
  },
  {
   "cell_type": "code",
   "execution_count": 30,
   "id": "01e0ba2b",
   "metadata": {},
   "outputs": [
    {
     "name": "stdout",
     "output_type": "stream",
     "text": [
      "[[ 1.73801299 -0.47327589 -0.94866161]\n",
      " [ 1.8833937  -1.09240633  0.95556488]\n",
      " [-1.46997798  0.66969971 -1.0733575 ]]\n"
     ]
    }
   ],
   "source": [
    "#generate a sample from the standard normal distribution (mean = 0, var = 1)\n",
    "print(np.random.randn(3,3))"
   ]
  },
  {
   "cell_type": "code",
   "execution_count": 31,
   "id": "abad511c",
   "metadata": {},
   "outputs": [
    {
     "name": "stdout",
     "output_type": "stream",
     "text": [
      "[2 1 1]\n"
     ]
    }
   ],
   "source": [
    "#generate an array of random integers in a given interval [low, high)\n",
    "print(np.random.randint(1, 10, 3, 'i8'))"
   ]
  },
  {
   "cell_type": "code",
   "execution_count": 32,
   "id": "29e2c651",
   "metadata": {},
   "outputs": [
    {
     "name": "stdout",
     "output_type": "stream",
     "text": [
      "[0.9866385  0.25305033 0.18003328 0.52113263 0.26529041 0.29664479\n",
      " 0.68543184 0.01191174 0.05493627 0.38282074]\n",
      "[0.93709732 0.85738815 0.2213733  0.56279064 0.17848989 0.20414244\n",
      " 0.00247079 0.02367218 0.34988518 0.83676174]\n",
      "[0.76338408 0.05705871 0.96510763 0.80831144 0.4801008  0.24594675\n",
      " 0.64096925 0.28111352 0.17258816 0.83457041]\n",
      "[7.28173041e-01 6.04285518e-01 4.05570618e-05 4.33641846e-01\n",
      " 8.42262090e-01 8.81455399e-01 7.62237557e-01 5.05493185e-01\n",
      " 6.49289641e-02 9.12102478e-02]\n"
     ]
    }
   ],
   "source": [
    "#generate an array of random floating-point numbers in the interval [0.0, 1.0)\n",
    "# the following methods are the same as np.random.rand()\n",
    "\n",
    "print(np.random.random_sample(10))\n",
    "print(np.random.random(10))\n",
    "print(np.random.ranf(10))\n",
    "print(np.random.sample(10))"
   ]
  },
  {
   "cell_type": "markdown",
   "id": "188fe893",
   "metadata": {},
   "source": [
    "### Assignment\n",
    "\n",
    "1. How to generate a random sample from a given 1-d array \n",
    "2. How to shuffle the values of the array?\n",
    "3. How to calculate the permutation using the array ?"
   ]
  },
  {
   "cell_type": "markdown",
   "id": "5b90c68a",
   "metadata": {},
   "source": [
    "## Linear Algebra "
   ]
  },
  {
   "cell_type": "code",
   "execution_count": 33,
   "id": "2ff6b2c4",
   "metadata": {},
   "outputs": [
    {
     "name": "stdout",
     "output_type": "stream",
     "text": [
      "[[1 2 1]\n",
      " [4 5 9]\n",
      " [1 8 9]]\n",
      "[1 2 3]\n",
      "[ 8 41 44]\n"
     ]
    }
   ],
   "source": [
    "# # we can do matrix multiplication\n",
    "print(mat)\n",
    "print(vec)\n",
    "product = np.matmul(mat,vec)\n",
    "print(product)"
   ]
  },
  {
   "cell_type": "code",
   "execution_count": 34,
   "id": "1686b63e",
   "metadata": {},
   "outputs": [
    {
     "name": "stdout",
     "output_type": "stream",
     "text": [
      "[1. 2. 3.]\n",
      "\n",
      "[[ 0.5         0.18518519 -0.24074074]\n",
      " [ 0.5        -0.14814815  0.09259259]\n",
      " [-0.5         0.11111111  0.05555556]]\n"
     ]
    }
   ],
   "source": [
    "print(np.linalg.solve(mat,product))\n",
    "print('')\n",
    "print(np.linalg.inv(mat))"
   ]
  },
  {
   "cell_type": "code",
   "execution_count": 35,
   "id": "58edccf6",
   "metadata": {},
   "outputs": [
    {
     "name": "stdout",
     "output_type": "stream",
     "text": [
      "[[-0.56368115  0.07681183 -0.43946335  0.41760492 -0.55573518]\n",
      " [-0.6151383  -0.19327069  0.30232027  0.34043371  0.61396959]\n",
      " [-0.08122864 -0.93490455  0.00124593 -0.2515301  -0.2368258 ]\n",
      " [-0.26570276  0.19994882  0.78709052 -0.20334718 -0.47808048]\n",
      " [-0.47610124  0.206689   -0.30977634 -0.7778776   0.17190793]]\n",
      "[[-1.49903101e+00 -9.73580014e-01 -1.04461977e+00 -7.13501010e-01\n",
      "  -1.26930088e+00]\n",
      " [ 0.00000000e+00 -8.17452778e-01 -4.10871255e-01 -4.90406692e-01\n",
      "  -7.48725377e-01]\n",
      " [ 0.00000000e+00  0.00000000e+00  8.58519664e-01  4.11496548e-01\n",
      "   5.53562298e-04]\n",
      " [ 0.00000000e+00  0.00000000e+00  0.00000000e+00 -2.74753619e-01\n",
      "   2.72688234e-02]\n",
      " [ 0.00000000e+00  0.00000000e+00  0.00000000e+00  0.00000000e+00\n",
      "  -8.47085885e-03]]\n"
     ]
    }
   ],
   "source": [
    "## QR factorization\n",
    "arr = np.random.rand(5,5)\n",
    "\n",
    "q, r = np.linalg.qr(arr)\n",
    "print(q)\n",
    "print(r)"
   ]
  },
  {
   "cell_type": "code",
   "execution_count": 36,
   "id": "a91b0dc2",
   "metadata": {},
   "outputs": [
    {
     "name": "stdout",
     "output_type": "stream",
     "text": [
      "[[-0.49888665  0.5652113   0.39265795 -0.33717711 -0.40469695]\n",
      " [-0.42398322 -0.55092405 -0.47209966 -0.32768389 -0.43181721]\n",
      " [-0.28001797 -0.24225954  0.30847637  0.79902924 -0.35957593]\n",
      " [-0.60676168  0.3074573  -0.46181485  0.28151901  0.49475688]\n",
      " [-0.35324289 -0.4730742   0.56081282 -0.24745539  0.52504768]]\n",
      "[2.73666541 0.93905728 0.78989529 0.3286174  0.01492684]\n",
      "[[-0.42181986 -0.38732989 -0.56704367 -0.36419731 -0.46676049]\n",
      " [ 0.35155228 -0.38899902 -0.09433906 -0.60499014  0.59175825]\n",
      " [-0.19051555 -0.78812164  0.50219034  0.30007855 -0.01805068]\n",
      " [ 0.66523986 -0.27788867 -0.47464011  0.47684519 -0.1660399 ]\n",
      " [-0.46865632 -0.0172477  -0.43827302  0.42885752  0.63565852]]\n"
     ]
    }
   ],
   "source": [
    "#singular value decomposition (SVD)\n",
    "arr = np.random.rand(5,5)\n",
    "\n",
    "u, s, v = np.linalg.svd(arr)\n",
    "print(u)\n",
    "print(s)\n",
    "print(v)"
   ]
  },
  {
   "cell_type": "code",
   "execution_count": 37,
   "id": "e2ec2b6f",
   "metadata": {},
   "outputs": [
    {
     "name": "stdout",
     "output_type": "stream",
     "text": [
      "[ 2.41910042+0.j         -0.04392984+0.44857592j -0.04392984-0.44857592j\n",
      "  0.04370221+0.j          0.6467223 +0.j        ]\n"
     ]
    }
   ],
   "source": [
    "#compute eigen values\n",
    "arr = np.random.rand(5,5)\n",
    "print(np.linalg.eigvals(arr))"
   ]
  },
  {
   "cell_type": "code",
   "execution_count": 38,
   "id": "52561863",
   "metadata": {},
   "outputs": [
    {
     "name": "stdout",
     "output_type": "stream",
     "text": [
      "[ 2.65019557+0.j         -0.0373818 +0.50809476j -0.0373818 -0.50809476j\n",
      " -0.32279772+0.j          0.2299183 +0.j        ]\n",
      "[[ 0.4014511 +0.j          0.22165829+0.14194938j  0.22165829-0.14194938j\n",
      "  -0.34833052+0.j          0.34187497+0.j        ]\n",
      " [ 0.46731377+0.j         -0.354034  -0.32970163j -0.354034  +0.32970163j\n",
      "   0.06551159+0.j         -0.08664256+0.j        ]\n",
      " [ 0.27339615+0.j         -0.06839154+0.39553572j -0.06839154-0.39553572j\n",
      "   0.18513533+0.j         -0.68570574+0.j        ]\n",
      " [ 0.39659301+0.j          0.59128845+0.j          0.59128845-0.j\n",
      "  -0.59291718+0.j         -0.2877135 +0.j        ]\n",
      " [ 0.62323621+0.j         -0.33704884-0.26893284j -0.33704884+0.26893284j\n",
      "   0.69896223+0.j          0.56801685+0.j        ]]\n"
     ]
    }
   ],
   "source": [
    "# eigen values decomposition \n",
    "\n",
    "arr = np.random.rand(5,5)\n",
    "\n",
    "w, v = np.linalg.eig(arr)\n",
    "print(w)    # eigen values\n",
    "print(v)    # eigen vectors"
   ]
  },
  {
   "cell_type": "code",
   "execution_count": 39,
   "id": "e04c352d",
   "metadata": {},
   "outputs": [
    {
     "name": "stdout",
     "output_type": "stream",
     "text": [
      "2.482552546975861\n"
     ]
    }
   ],
   "source": [
    "# compute trace and determinant \n",
    "\n",
    "# notice this is not a function in linalg!!!\n",
    "print(np.trace(arr))  "
   ]
  },
  {
   "cell_type": "code",
   "execution_count": 40,
   "id": "57f20095",
   "metadata": {},
   "outputs": [
    {
     "name": "stdout",
     "output_type": "stream",
     "text": [
      "-0.051052359238810616\n"
     ]
    }
   ],
   "source": [
    "print(np.linalg.det(arr))"
   ]
  },
  {
   "cell_type": "code",
   "execution_count": null,
   "id": "96b94e0c",
   "metadata": {},
   "outputs": [],
   "source": []
  }
 ],
 "metadata": {
  "kernelspec": {
   "display_name": "Python 3 (ipykernel)",
   "language": "python",
   "name": "python3"
  },
  "language_info": {
   "codemirror_mode": {
    "name": "ipython",
    "version": 3
   },
   "file_extension": ".py",
   "mimetype": "text/x-python",
   "name": "python",
   "nbconvert_exporter": "python",
   "pygments_lexer": "ipython3",
   "version": "3.9.12"
  }
 },
 "nbformat": 4,
 "nbformat_minor": 5
}
