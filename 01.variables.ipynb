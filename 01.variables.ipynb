{
 "cells": [
  {
   "cell_type": "markdown",
   "id": "61e1022d",
   "metadata": {},
   "source": [
    "# Variables "
   ]
  },
  {
   "cell_type": "markdown",
   "id": "b9dc08cf",
   "metadata": {},
   "source": [
    "## Dynamic Typing \n",
    "\n",
    "Python uses dynamic typing, meaning you can reassign variables to different data types. This makes Python very flexible in assigning data types; it differs from other languages that are statically typed."
   ]
  },
  {
   "cell_type": "code",
   "execution_count": 1,
   "id": "1fc283ba",
   "metadata": {},
   "outputs": [],
   "source": [
    "my_friends= 2"
   ]
  },
  {
   "cell_type": "code",
   "execution_count": 2,
   "id": "a61951d3",
   "metadata": {},
   "outputs": [
    {
     "data": {
      "text/plain": [
       "2"
      ]
     },
     "execution_count": 2,
     "metadata": {},
     "output_type": "execute_result"
    }
   ],
   "source": [
    "my_friends"
   ]
  },
  {
   "cell_type": "code",
   "execution_count": 3,
   "id": "2dde1dbb",
   "metadata": {},
   "outputs": [],
   "source": [
    "my_friends = ['Willem','Saskia']"
   ]
  },
  {
   "cell_type": "code",
   "execution_count": 4,
   "id": "2be210c7",
   "metadata": {},
   "outputs": [
    {
     "data": {
      "text/plain": [
       "['Willem', 'Saskia']"
      ]
     },
     "execution_count": 4,
     "metadata": {},
     "output_type": "execute_result"
    }
   ],
   "source": [
    "my_friends"
   ]
  },
  {
   "cell_type": "markdown",
   "id": "164d2d7e",
   "metadata": {},
   "source": [
    "### Pros and cons of Dynamic Typing\n",
    "\n",
    "**Pros**\n",
    "- Easy to implement\n",
    "- Faster development time\n",
    "\n",
    "**Cons**\n",
    "\n",
    "- Unexpected bugs\n",
    "- we need to be careful with the type "
   ]
  },
  {
   "cell_type": "markdown",
   "id": "047061d0",
   "metadata": {},
   "source": [
    "## Variable Assignment"
   ]
  },
  {
   "cell_type": "code",
   "execution_count": 1,
   "id": "27dfd945",
   "metadata": {},
   "outputs": [
    {
     "data": {
      "text/plain": [
       "10"
      ]
     },
     "execution_count": 1,
     "metadata": {},
     "output_type": "execute_result"
    }
   ],
   "source": [
    "x= 10\n",
    "x"
   ]
  },
  {
   "cell_type": "code",
   "execution_count": 2,
   "id": "14e528f6",
   "metadata": {},
   "outputs": [],
   "source": [
    "# We can assign some other values too \n",
    "x= 15 "
   ]
  },
  {
   "cell_type": "code",
   "execution_count": 3,
   "id": "c9b0b681",
   "metadata": {},
   "outputs": [
    {
     "data": {
      "text/plain": [
       "30"
      ]
     },
     "execution_count": 3,
     "metadata": {},
     "output_type": "execute_result"
    }
   ],
   "source": [
    "x+x"
   ]
  },
  {
   "cell_type": "code",
   "execution_count": 4,
   "id": "9c79f774",
   "metadata": {},
   "outputs": [
    {
     "data": {
      "text/plain": [
       "15"
      ]
     },
     "execution_count": 4,
     "metadata": {},
     "output_type": "execute_result"
    }
   ],
   "source": [
    "x"
   ]
  },
  {
   "cell_type": "markdown",
   "id": "2d573289",
   "metadata": {},
   "source": [
    "**There's actually a shortcut for this. Python lets you add, subtract, multiply and divide numbers with reassignment using +=, -=, *=, and /=**"
   ]
  },
  {
   "cell_type": "code",
   "execution_count": 8,
   "id": "031b9865",
   "metadata": {},
   "outputs": [],
   "source": [
    "x+=20"
   ]
  },
  {
   "cell_type": "code",
   "execution_count": 9,
   "id": "5a7f996e",
   "metadata": {},
   "outputs": [
    {
     "data": {
      "text/plain": [
       "35"
      ]
     },
     "execution_count": 9,
     "metadata": {},
     "output_type": "execute_result"
    }
   ],
   "source": [
    "x"
   ]
  },
  {
   "cell_type": "markdown",
   "id": "a9d83137",
   "metadata": {},
   "source": [
    "### Determining variable type with type()\n",
    "\n",
    "You can check what type of object is assigned to a variable using Python's built-in type() function. Common data types include:\n",
    "\n",
    "- int (for integer)\n",
    "- float\n",
    "- str (for string)\n",
    "- list\n",
    "- tuple\n",
    "- dict (for dictionary)\n",
    "- set\n",
    "- bool (for Boolean True/False)"
   ]
  },
  {
   "cell_type": "code",
   "execution_count": 10,
   "id": "5bbf852c",
   "metadata": {},
   "outputs": [
    {
     "data": {
      "text/plain": [
       "int"
      ]
     },
     "execution_count": 10,
     "metadata": {},
     "output_type": "execute_result"
    }
   ],
   "source": [
    "type(x)"
   ]
  },
  {
   "cell_type": "code",
   "execution_count": 11,
   "id": "f52d2797",
   "metadata": {},
   "outputs": [],
   "source": [
    "y= \"Hello World\""
   ]
  },
  {
   "cell_type": "code",
   "execution_count": 12,
   "id": "9104dfd2",
   "metadata": {},
   "outputs": [
    {
     "data": {
      "text/plain": [
       "str"
      ]
     },
     "execution_count": 12,
     "metadata": {},
     "output_type": "execute_result"
    }
   ],
   "source": [
    "type(y)"
   ]
  },
  {
   "cell_type": "markdown",
   "id": "cc10b442",
   "metadata": {},
   "source": [
    "## Assignment \n",
    "\n",
    "Please calucate the simple interest where the principal is 1000 , rate of interest is 5% and time is 2 years. The simple interest formula is SI = (p*r*t)/100. Please store the result"
   ]
  },
  {
   "cell_type": "code",
   "execution_count": null,
   "id": "047c87d2",
   "metadata": {},
   "outputs": [],
   "source": []
  }
 ],
 "metadata": {
  "kernelspec": {
   "display_name": "Python 3 (ipykernel)",
   "language": "python",
   "name": "python3"
  },
  "language_info": {
   "codemirror_mode": {
    "name": "ipython",
    "version": 3
   },
   "file_extension": ".py",
   "mimetype": "text/x-python",
   "name": "python",
   "nbconvert_exporter": "python",
   "pygments_lexer": "ipython3",
   "version": "3.9.12"
  }
 },
 "nbformat": 4,
 "nbformat_minor": 5
}
