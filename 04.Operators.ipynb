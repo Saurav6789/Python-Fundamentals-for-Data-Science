{
 "cells": [
  {
   "cell_type": "markdown",
   "id": "983c4207",
   "metadata": {},
   "source": [
    "### Arithmetic Operators "
   ]
  },
  {
   "cell_type": "code",
   "execution_count": 1,
   "id": "5cd9c879",
   "metadata": {},
   "outputs": [],
   "source": [
    "a=50\n",
    "b=40"
   ]
  },
  {
   "cell_type": "code",
   "execution_count": 2,
   "id": "048d6b6e",
   "metadata": {},
   "outputs": [
    {
     "name": "stdout",
     "output_type": "stream",
     "text": [
      "90\n",
      "10\n",
      "2000\n",
      "1.25\n",
      "10\n",
      "1\n",
      "90949470177292823791503906250000000000000000000000000000000000000000\n"
     ]
    }
   ],
   "source": [
    "print(a+b)\n",
    "\n",
    "print(a-b)\n",
    "\n",
    "print(a*b)\n",
    "\n",
    "print(a/b)\n",
    "\n",
    "print(a%b)\n",
    "\n",
    "print(a//b) #division and then rounding off ( floor divison)\n",
    "\n",
    "print(a**b) # Exponent "
   ]
  },
  {
   "cell_type": "markdown",
   "id": "2c922f46",
   "metadata": {},
   "source": [
    "### Assignment Operators\n"
   ]
  },
  {
   "cell_type": "code",
   "execution_count": 19,
   "id": "6609830a",
   "metadata": {},
   "outputs": [
    {
     "name": "stdout",
     "output_type": "stream",
     "text": [
      "40\n"
     ]
    }
   ],
   "source": [
    "a=30\n",
    "b=40\n",
    "a=b\n",
    "print(a)"
   ]
  },
  {
   "cell_type": "code",
   "execution_count": 4,
   "id": "db6847e8",
   "metadata": {},
   "outputs": [
    {
     "name": "stdout",
     "output_type": "stream",
     "text": [
      "60\n"
     ]
    }
   ],
   "source": [
    "a+=b\n",
    "print(a)\n"
   ]
  },
  {
   "cell_type": "code",
   "execution_count": 5,
   "id": "843b8e10",
   "metadata": {},
   "outputs": [
    {
     "name": "stdout",
     "output_type": "stream",
     "text": [
      "30\n"
     ]
    }
   ],
   "source": [
    "a-=b\n",
    "print(a)"
   ]
  },
  {
   "cell_type": "code",
   "execution_count": 6,
   "id": "21d0e5c1",
   "metadata": {},
   "outputs": [
    {
     "name": "stdout",
     "output_type": "stream",
     "text": [
      "1.0\n"
     ]
    }
   ],
   "source": [
    "a/=b\n",
    "print(a)"
   ]
  },
  {
   "cell_type": "code",
   "execution_count": 7,
   "id": "1f5b82d7",
   "metadata": {},
   "outputs": [
    {
     "name": "stdout",
     "output_type": "stream",
     "text": [
      "1.0\n"
     ]
    }
   ],
   "source": [
    "a**=b\n",
    "print(a)"
   ]
  },
  {
   "cell_type": "code",
   "execution_count": 8,
   "id": "4cb929d6",
   "metadata": {},
   "outputs": [
    {
     "name": "stdout",
     "output_type": "stream",
     "text": [
      "0.0\n"
     ]
    }
   ],
   "source": [
    "a//=b\n",
    "print(a)"
   ]
  },
  {
   "cell_type": "markdown",
   "id": "837ecbff",
   "metadata": {},
   "source": [
    "### Comparison Operator"
   ]
  },
  {
   "cell_type": "code",
   "execution_count": 9,
   "id": "596f8cbb",
   "metadata": {},
   "outputs": [],
   "source": [
    "a=50\n",
    "b=100"
   ]
  },
  {
   "cell_type": "code",
   "execution_count": 10,
   "id": "a2e1f94a",
   "metadata": {},
   "outputs": [
    {
     "name": "stdout",
     "output_type": "stream",
     "text": [
      "False\n",
      "True\n",
      "False\n",
      "True\n",
      "False\n",
      "True\n"
     ]
    }
   ],
   "source": [
    "print(a==b)\n",
    "print(a!=b)\n",
    "print(a>b)\n",
    "print(a<b)\n",
    "print(a>=b)\n",
    "print(a<=b)"
   ]
  },
  {
   "cell_type": "markdown",
   "id": "61aaaa5a",
   "metadata": {},
   "source": [
    "### Logical Operators "
   ]
  },
  {
   "cell_type": "code",
   "execution_count": 11,
   "id": "f8d5bdae",
   "metadata": {},
   "outputs": [],
   "source": [
    "a=10\n",
    "b=50"
   ]
  },
  {
   "cell_type": "code",
   "execution_count": 12,
   "id": "ff612cc6",
   "metadata": {},
   "outputs": [
    {
     "name": "stdout",
     "output_type": "stream",
     "text": [
      "50\n",
      "10\n",
      "False\n"
     ]
    }
   ],
   "source": [
    "print(a and b)\n",
    "print(a or b)\n",
    "print(not a)"
   ]
  },
  {
   "cell_type": "markdown",
   "id": "3e57ee70",
   "metadata": {},
   "source": [
    "### Bitwise Operators"
   ]
  },
  {
   "cell_type": "code",
   "execution_count": 13,
   "id": "e588f525",
   "metadata": {},
   "outputs": [],
   "source": [
    "a=10\n",
    "b=35"
   ]
  },
  {
   "cell_type": "code",
   "execution_count": 14,
   "id": "756e05fb",
   "metadata": {},
   "outputs": [
    {
     "name": "stdout",
     "output_type": "stream",
     "text": [
      "2\n",
      "43\n",
      "41\n",
      "-11\n",
      "40\n",
      "0\n"
     ]
    }
   ],
   "source": [
    "print(a&b)\n",
    "print(a|b)\n",
    "print(a^b)\n",
    "print(~a)\n",
    "print(a<<2)\n",
    "print(a>>b)"
   ]
  },
  {
   "cell_type": "markdown",
   "id": "0358ab9e",
   "metadata": {},
   "source": [
    "### Identity Operators"
   ]
  },
  {
   "cell_type": "code",
   "execution_count": 15,
   "id": "f729a86a",
   "metadata": {},
   "outputs": [],
   "source": [
    "a=[1,3,5,7,'Python']\n",
    "a=b"
   ]
  },
  {
   "cell_type": "code",
   "execution_count": 16,
   "id": "776e17c8",
   "metadata": {},
   "outputs": [
    {
     "name": "stdout",
     "output_type": "stream",
     "text": [
      "True\n"
     ]
    }
   ],
   "source": [
    "print(b is a)"
   ]
  },
  {
   "cell_type": "code",
   "execution_count": 17,
   "id": "60eb2c9b",
   "metadata": {},
   "outputs": [
    {
     "name": "stdout",
     "output_type": "stream",
     "text": [
      "False\n"
     ]
    }
   ],
   "source": [
    "print(a is not b)"
   ]
  },
  {
   "cell_type": "markdown",
   "id": "63370aeb",
   "metadata": {},
   "source": [
    "### # Membership Operators"
   ]
  },
  {
   "cell_type": "code",
   "execution_count": 18,
   "id": "e5bb8411",
   "metadata": {},
   "outputs": [
    {
     "name": "stdout",
     "output_type": "stream",
     "text": [
      "False\n",
      "True\n"
     ]
    }
   ],
   "source": [
    "list1=[1,10,100,\"Data Science\"]\n",
    "print(30 in list1)\n",
    "print(20 not in list1)"
   ]
  },
  {
   "cell_type": "code",
   "execution_count": null,
   "id": "c38d04b0",
   "metadata": {},
   "outputs": [],
   "source": []
  }
 ],
 "metadata": {
  "kernelspec": {
   "display_name": "Python 3 (ipykernel)",
   "language": "python",
   "name": "python3"
  },
  "language_info": {
   "codemirror_mode": {
    "name": "ipython",
    "version": 3
   },
   "file_extension": ".py",
   "mimetype": "text/x-python",
   "name": "python",
   "nbconvert_exporter": "python",
   "pygments_lexer": "ipython3",
   "version": "3.9.12"
  }
 },
 "nbformat": 4,
 "nbformat_minor": 5
}
