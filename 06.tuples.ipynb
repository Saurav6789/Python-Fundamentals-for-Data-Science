{
 "cells": [
  {
   "cell_type": "markdown",
   "id": "a1f0ffaf",
   "metadata": {},
   "source": [
    "# Tuples\n",
    "\n",
    "Tuples are one of the sequence used in Python. They are mutable in nature which means we can modify it's values. In this note book we will discuss about the following topics \n",
    "\n",
    "- Creating tuples \n",
    "- Indexing and slicing tuples\n",
    "- Built in tuple methods \n",
    "- Immutability"
   ]
  },
  {
   "cell_type": "markdown",
   "id": "38b2d6d2",
   "metadata": {},
   "source": [
    "## Creating Tuples"
   ]
  },
  {
   "cell_type": "code",
   "execution_count": 1,
   "id": "72712367",
   "metadata": {},
   "outputs": [
    {
     "data": {
      "text/plain": [
       "('Hello', 'Derek', 'School')"
      ]
     },
     "execution_count": 1,
     "metadata": {},
     "output_type": "execute_result"
    }
   ],
   "source": [
    "# Create a tuple of strings \n",
    "tup_str = (\"Hello\",\"Derek\",\"School\")\n",
    "tup_str"
   ]
  },
  {
   "cell_type": "code",
   "execution_count": 2,
   "id": "85afc85b",
   "metadata": {},
   "outputs": [
    {
     "data": {
      "text/plain": [
       "(2, 6, 1, 8)"
      ]
     },
     "execution_count": 2,
     "metadata": {},
     "output_type": "execute_result"
    }
   ],
   "source": [
    "# Create a tuple of integers\n",
    "tup_int =(2,6,1,8)\n",
    "tup_int"
   ]
  },
  {
   "cell_type": "code",
   "execution_count": 3,
   "id": "edb4fd34",
   "metadata": {},
   "outputs": [
    {
     "data": {
      "text/plain": [
       "('Hello', 404, 3.14, 'k')"
      ]
     },
     "execution_count": 3,
     "metadata": {},
     "output_type": "execute_result"
    }
   ],
   "source": [
    "tup_mix =(\"Hello\",404,3.14,'k')\n",
    "tup_mix"
   ]
  },
  {
   "cell_type": "code",
   "execution_count": 4,
   "id": "64fce5fa",
   "metadata": {},
   "outputs": [
    {
     "data": {
      "text/plain": [
       "4"
      ]
     },
     "execution_count": 4,
     "metadata": {},
     "output_type": "execute_result"
    }
   ],
   "source": [
    "len(tup_mix)"
   ]
  },
  {
   "cell_type": "markdown",
   "id": "e2aad4c3",
   "metadata": {},
   "source": [
    "## Indexing and Slicing"
   ]
  },
  {
   "cell_type": "code",
   "execution_count": 5,
   "id": "dd049925",
   "metadata": {},
   "outputs": [
    {
     "data": {
      "text/plain": [
       "404"
      ]
     },
     "execution_count": 5,
     "metadata": {},
     "output_type": "execute_result"
    }
   ],
   "source": [
    "# Accessing the element at index 1\n",
    "tup_mix[1]"
   ]
  },
  {
   "cell_type": "code",
   "execution_count": 6,
   "id": "1f062e83",
   "metadata": {},
   "outputs": [
    {
     "data": {
      "text/plain": [
       "(404, 3.14, 'k')"
      ]
     },
     "execution_count": 6,
     "metadata": {},
     "output_type": "execute_result"
    }
   ],
   "source": [
    "#Grab the element from index 1 till end\n",
    "tup_mix[1:]"
   ]
  },
  {
   "cell_type": "code",
   "execution_count": 7,
   "id": "7eb06989",
   "metadata": {},
   "outputs": [
    {
     "data": {
      "text/plain": [
       "('Hello', 404, 3.14)"
      ]
     },
     "execution_count": 7,
     "metadata": {},
     "output_type": "execute_result"
    }
   ],
   "source": [
    "# Grab the element upto index 3\n",
    "tup_mix[:3]"
   ]
  },
  {
   "cell_type": "code",
   "execution_count": 8,
   "id": "1759bf59",
   "metadata": {},
   "outputs": [
    {
     "data": {
      "text/plain": [
       "(404, 3.14)"
      ]
     },
     "execution_count": 8,
     "metadata": {},
     "output_type": "execute_result"
    }
   ],
   "source": [
    "# Grab the element between index 1 and 3\n",
    "tup_mix[1:3]"
   ]
  },
  {
   "cell_type": "markdown",
   "id": "5c7db8e9",
   "metadata": {},
   "source": [
    "## Built in Methods "
   ]
  },
  {
   "cell_type": "code",
   "execution_count": 9,
   "id": "262c62e5",
   "metadata": {},
   "outputs": [
    {
     "data": {
      "text/plain": [
       "2"
      ]
     },
     "execution_count": 9,
     "metadata": {},
     "output_type": "execute_result"
    }
   ],
   "source": [
    "# Use .index to enter a value and return the index\n",
    "tup_mix.index(3.14)"
   ]
  },
  {
   "cell_type": "code",
   "execution_count": 10,
   "id": "3727102b",
   "metadata": {},
   "outputs": [
    {
     "data": {
      "text/plain": [
       "1"
      ]
     },
     "execution_count": 10,
     "metadata": {},
     "output_type": "execute_result"
    }
   ],
   "source": [
    "# Use .count to count the number of times a value appears\n",
    "tup_mix.count('Hello')"
   ]
  },
  {
   "cell_type": "code",
   "execution_count": 11,
   "id": "e17b4e54",
   "metadata": {},
   "outputs": [
    {
     "data": {
      "text/plain": [
       "('Hello', 404, 3.14, 'k', 2, 6, 1, 8)"
      ]
     },
     "execution_count": 11,
     "metadata": {},
     "output_type": "execute_result"
    }
   ],
   "source": [
    "tup_mix = tup_mix + tup_int\n",
    "tup_mix"
   ]
  },
  {
   "cell_type": "code",
   "execution_count": 12,
   "id": "74afb84d",
   "metadata": {},
   "outputs": [
    {
     "data": {
      "text/plain": [
       "(2, 6, 1, 8, 2, 6, 1, 8)"
      ]
     },
     "execution_count": 12,
     "metadata": {},
     "output_type": "execute_result"
    }
   ],
   "source": [
    "tup_int * 2"
   ]
  },
  {
   "cell_type": "code",
   "execution_count": 13,
   "id": "73a332e8",
   "metadata": {},
   "outputs": [
    {
     "ename": "IndexError",
     "evalue": "tuple index out of range",
     "output_type": "error",
     "traceback": [
      "\u001b[1;31m---------------------------------------------------------------------------\u001b[0m",
      "\u001b[1;31mIndexError\u001b[0m                                Traceback (most recent call last)",
      "Input \u001b[1;32mIn [13]\u001b[0m, in \u001b[0;36m<cell line: 1>\u001b[1;34m()\u001b[0m\n\u001b[1;32m----> 1\u001b[0m \u001b[43mtup_int\u001b[49m\u001b[43m[\u001b[49m\u001b[38;5;241;43m25\u001b[39;49m\u001b[43m]\u001b[49m\n",
      "\u001b[1;31mIndexError\u001b[0m: tuple index out of range"
     ]
    }
   ],
   "source": [
    "tup_int[25]"
   ]
  },
  {
   "cell_type": "markdown",
   "id": "56eba624",
   "metadata": {},
   "source": [
    "## Immutability "
   ]
  },
  {
   "cell_type": "code",
   "execution_count": 14,
   "id": "41895fb7",
   "metadata": {},
   "outputs": [
    {
     "data": {
      "text/plain": [
       "('Hello', 404, 3.14, 'k', 2, 6, 1, 8)"
      ]
     },
     "execution_count": 14,
     "metadata": {},
     "output_type": "execute_result"
    }
   ],
   "source": [
    "tup_mix"
   ]
  },
  {
   "cell_type": "code",
   "execution_count": 15,
   "id": "24186a54",
   "metadata": {},
   "outputs": [
    {
     "ename": "TypeError",
     "evalue": "'tuple' object does not support item assignment",
     "output_type": "error",
     "traceback": [
      "\u001b[1;31m---------------------------------------------------------------------------\u001b[0m",
      "\u001b[1;31mTypeError\u001b[0m                                 Traceback (most recent call last)",
      "Input \u001b[1;32mIn [15]\u001b[0m, in \u001b[0;36m<cell line: 1>\u001b[1;34m()\u001b[0m\n\u001b[1;32m----> 1\u001b[0m tup_mix[\u001b[38;5;241m0\u001b[39m]\u001b[38;5;241m=\u001b[39m\u001b[38;5;124m\"\u001b[39m\u001b[38;5;124mWelcome\u001b[39m\u001b[38;5;124m\"\u001b[39m\n",
      "\u001b[1;31mTypeError\u001b[0m: 'tuple' object does not support item assignment"
     ]
    }
   ],
   "source": [
    "tup_mix[0]=\"Welcome\""
   ]
  },
  {
   "cell_type": "code",
   "execution_count": null,
   "id": "265418af",
   "metadata": {},
   "outputs": [],
   "source": []
  }
 ],
 "metadata": {
  "kernelspec": {
   "display_name": "Python 3 (ipykernel)",
   "language": "python",
   "name": "python3"
  },
  "language_info": {
   "codemirror_mode": {
    "name": "ipython",
    "version": 3
   },
   "file_extension": ".py",
   "mimetype": "text/x-python",
   "name": "python",
   "nbconvert_exporter": "python",
   "pygments_lexer": "ipython3",
   "version": "3.9.12"
  }
 },
 "nbformat": 4,
 "nbformat_minor": 5
}
